{
  "nbformat": 4,
  "nbformat_minor": 0,
  "metadata": {
    "colab": {
      "provenance": [],
      "mount_file_id": "1EiHHR3iCuULMJ6xsYH1n-ejnRIjyGqR6",
      "authorship_tag": "ABX9TyMUKpWBAOmEWBqfb5oYpuGr",
      "include_colab_link": true
    },
    "kernelspec": {
      "name": "python3",
      "display_name": "Python 3"
    },
    "language_info": {
      "name": "python"
    },
    "accelerator": "GPU",
    "gpuClass": "standard"
  },
  "cells": [
    {
      "cell_type": "markdown",
      "metadata": {
        "id": "view-in-github",
        "colab_type": "text"
      },
      "source": [
        "<a href=\"https://colab.research.google.com/github/MoizAhmed2517/Deep_Learning_Projects/blob/main/Polyp_Detection_YOLO_Model_Training.ipynb\" target=\"_parent\"><img src=\"https://colab.research.google.com/assets/colab-badge.svg\" alt=\"Open In Colab\"/></a>"
      ]
    },
    {
      "cell_type": "code",
      "execution_count": 2,
      "metadata": {
        "id": "LlmodjDn-eqi"
      },
      "outputs": [],
      "source": [
        "import os\n",
        "from glob import glob\n",
        "import pandas as pd\n",
        "from functools import reduce\n",
        "from xml.etree import ElementTree as et\n",
        "import zipfile \n",
        "from google.colab import drive\n",
        "import seaborn as sns\n",
        "import matplotlib.pyplot as plt\n",
        "import numpy as np\n",
        "from sklearn.preprocessing import LabelEncoder\n",
        "from shutil import move"
      ]
    },
    {
      "cell_type": "code",
      "source": [
        "os.chdir(\"/content/drive/MyDrive/polyp Detection\")"
      ],
      "metadata": {
        "id": "gzntos6M-yTn"
      },
      "execution_count": 3,
      "outputs": []
    },
    {
      "cell_type": "code",
      "source": [
        "!git clone https://github.com/ultralytics/yolov5.git"
      ],
      "metadata": {
        "colab": {
          "base_uri": "https://localhost:8080/"
        },
        "id": "v9UY6VP6-yZb",
        "outputId": "60e8ba60-ee89-4f44-cc83-da9deccb4371"
      },
      "execution_count": 4,
      "outputs": [
        {
          "output_type": "stream",
          "name": "stdout",
          "text": [
            "Cloning into 'yolov5'...\n",
            "remote: Enumerating objects: 14906, done.\u001b[K\n",
            "remote: Counting objects: 100% (26/26), done.\u001b[K\n",
            "remote: Compressing objects: 100% (24/24), done.\u001b[K\n",
            "remote: Total 14906 (delta 11), reused 12 (delta 2), pack-reused 14880\u001b[K\n",
            "Receiving objects: 100% (14906/14906), 13.92 MiB | 6.32 MiB/s, done.\n",
            "Resolving deltas: 100% (10258/10258), done.\n"
          ]
        }
      ]
    },
    {
      "cell_type": "code",
      "source": [
        "zip_ref = zipfile.ZipFile(\"/content/drive/MyDrive/polyp Detection/PolypSplitData.zip\")\n",
        "zip_ref.extractall()\n",
        "zip_ref.close()"
      ],
      "metadata": {
        "id": "71SEvWWC-ycS"
      },
      "execution_count": 5,
      "outputs": []
    },
    {
      "cell_type": "code",
      "source": [
        "os.chdir('/content/drive/MyDrive/polyp Detection/yolov5') "
      ],
      "metadata": {
        "id": "pK3DnEEv-yg5"
      },
      "execution_count": 6,
      "outputs": []
    },
    {
      "cell_type": "code",
      "source": [
        "!ls"
      ],
      "metadata": {
        "colab": {
          "base_uri": "https://localhost:8080/"
        },
        "id": "fL-4q9y_-yjY",
        "outputId": "11b2f4c8-b556-41c3-8ebe-01ab31cd2cf8"
      },
      "execution_count": 7,
      "outputs": [
        {
          "output_type": "stream",
          "name": "stdout",
          "text": [
            "benchmarks.py\t data\t     LICENSE\t      requirements.txt\ttutorial.ipynb\n",
            "CITATION.cff\t detect.py   models\t      segment\t\tutils\n",
            "classify\t export.py   README.md\t      setup.cfg\t\tval.py\n",
            "CONTRIBUTING.md  hubconf.py  README.zh-CN.md  train.py\n"
          ]
        }
      ]
    },
    {
      "cell_type": "code",
      "source": [
        "!pip install -r requirements.txt"
      ],
      "metadata": {
        "colab": {
          "base_uri": "https://localhost:8080/"
        },
        "id": "5dNxwFgW_4R8",
        "outputId": "16a070b2-1bc7-4cef-82e8-fa5a44639d03"
      },
      "execution_count": 8,
      "outputs": [
        {
          "output_type": "stream",
          "name": "stdout",
          "text": [
            "Looking in indexes: https://pypi.org/simple, https://us-python.pkg.dev/colab-wheels/public/simple/\n",
            "Collecting gitpython\n",
            "  Downloading GitPython-3.1.29-py3-none-any.whl (182 kB)\n",
            "\u001b[K     |████████████████████████████████| 182 kB 30.5 MB/s \n",
            "\u001b[?25hRequirement already satisfied: ipython in /usr/local/lib/python3.8/dist-packages (from -r requirements.txt (line 6)) (7.9.0)\n",
            "Requirement already satisfied: matplotlib>=3.2.2 in /usr/local/lib/python3.8/dist-packages (from -r requirements.txt (line 7)) (3.2.2)\n",
            "Requirement already satisfied: numpy>=1.18.5 in /usr/local/lib/python3.8/dist-packages (from -r requirements.txt (line 8)) (1.21.6)\n",
            "Requirement already satisfied: opencv-python>=4.1.1 in /usr/local/lib/python3.8/dist-packages (from -r requirements.txt (line 9)) (4.6.0.66)\n",
            "Requirement already satisfied: Pillow>=7.1.2 in /usr/local/lib/python3.8/dist-packages (from -r requirements.txt (line 10)) (7.1.2)\n",
            "Requirement already satisfied: psutil in /usr/local/lib/python3.8/dist-packages (from -r requirements.txt (line 11)) (5.4.8)\n",
            "Requirement already satisfied: PyYAML>=5.3.1 in /usr/local/lib/python3.8/dist-packages (from -r requirements.txt (line 12)) (6.0)\n",
            "Requirement already satisfied: requests>=2.23.0 in /usr/local/lib/python3.8/dist-packages (from -r requirements.txt (line 13)) (2.23.0)\n",
            "Requirement already satisfied: scipy>=1.4.1 in /usr/local/lib/python3.8/dist-packages (from -r requirements.txt (line 14)) (1.7.3)\n",
            "Collecting thop>=0.1.1\n",
            "  Downloading thop-0.1.1.post2209072238-py3-none-any.whl (15 kB)\n",
            "Requirement already satisfied: torch>=1.7.0 in /usr/local/lib/python3.8/dist-packages (from -r requirements.txt (line 16)) (1.13.0+cu116)\n",
            "Requirement already satisfied: torchvision>=0.8.1 in /usr/local/lib/python3.8/dist-packages (from -r requirements.txt (line 17)) (0.14.0+cu116)\n",
            "Requirement already satisfied: tqdm>=4.64.0 in /usr/local/lib/python3.8/dist-packages (from -r requirements.txt (line 18)) (4.64.1)\n",
            "Requirement already satisfied: tensorboard>=2.4.1 in /usr/local/lib/python3.8/dist-packages (from -r requirements.txt (line 22)) (2.9.1)\n",
            "Requirement already satisfied: pandas>=1.1.4 in /usr/local/lib/python3.8/dist-packages (from -r requirements.txt (line 27)) (1.3.5)\n",
            "Requirement already satisfied: seaborn>=0.11.0 in /usr/local/lib/python3.8/dist-packages (from -r requirements.txt (line 28)) (0.11.2)\n",
            "Requirement already satisfied: cycler>=0.10 in /usr/local/lib/python3.8/dist-packages (from matplotlib>=3.2.2->-r requirements.txt (line 7)) (0.11.0)\n",
            "Requirement already satisfied: kiwisolver>=1.0.1 in /usr/local/lib/python3.8/dist-packages (from matplotlib>=3.2.2->-r requirements.txt (line 7)) (1.4.4)\n",
            "Requirement already satisfied: python-dateutil>=2.1 in /usr/local/lib/python3.8/dist-packages (from matplotlib>=3.2.2->-r requirements.txt (line 7)) (2.8.2)\n",
            "Requirement already satisfied: pyparsing!=2.0.4,!=2.1.2,!=2.1.6,>=2.0.1 in /usr/local/lib/python3.8/dist-packages (from matplotlib>=3.2.2->-r requirements.txt (line 7)) (3.0.9)\n",
            "Requirement already satisfied: idna<3,>=2.5 in /usr/local/lib/python3.8/dist-packages (from requests>=2.23.0->-r requirements.txt (line 13)) (2.10)\n",
            "Requirement already satisfied: certifi>=2017.4.17 in /usr/local/lib/python3.8/dist-packages (from requests>=2.23.0->-r requirements.txt (line 13)) (2022.12.7)\n",
            "Requirement already satisfied: chardet<4,>=3.0.2 in /usr/local/lib/python3.8/dist-packages (from requests>=2.23.0->-r requirements.txt (line 13)) (3.0.4)\n",
            "Requirement already satisfied: urllib3!=1.25.0,!=1.25.1,<1.26,>=1.21.1 in /usr/local/lib/python3.8/dist-packages (from requests>=2.23.0->-r requirements.txt (line 13)) (1.24.3)\n",
            "Requirement already satisfied: typing-extensions in /usr/local/lib/python3.8/dist-packages (from torch>=1.7.0->-r requirements.txt (line 16)) (4.4.0)\n",
            "Requirement already satisfied: google-auth<3,>=1.6.3 in /usr/local/lib/python3.8/dist-packages (from tensorboard>=2.4.1->-r requirements.txt (line 22)) (2.15.0)\n",
            "Requirement already satisfied: absl-py>=0.4 in /usr/local/lib/python3.8/dist-packages (from tensorboard>=2.4.1->-r requirements.txt (line 22)) (1.3.0)\n",
            "Requirement already satisfied: wheel>=0.26 in /usr/local/lib/python3.8/dist-packages (from tensorboard>=2.4.1->-r requirements.txt (line 22)) (0.38.4)\n",
            "Requirement already satisfied: google-auth-oauthlib<0.5,>=0.4.1 in /usr/local/lib/python3.8/dist-packages (from tensorboard>=2.4.1->-r requirements.txt (line 22)) (0.4.6)\n",
            "Requirement already satisfied: markdown>=2.6.8 in /usr/local/lib/python3.8/dist-packages (from tensorboard>=2.4.1->-r requirements.txt (line 22)) (3.4.1)\n",
            "Requirement already satisfied: werkzeug>=1.0.1 in /usr/local/lib/python3.8/dist-packages (from tensorboard>=2.4.1->-r requirements.txt (line 22)) (1.0.1)\n",
            "Requirement already satisfied: grpcio>=1.24.3 in /usr/local/lib/python3.8/dist-packages (from tensorboard>=2.4.1->-r requirements.txt (line 22)) (1.51.1)\n",
            "Requirement already satisfied: protobuf<3.20,>=3.9.2 in /usr/local/lib/python3.8/dist-packages (from tensorboard>=2.4.1->-r requirements.txt (line 22)) (3.19.6)\n",
            "Requirement already satisfied: setuptools>=41.0.0 in /usr/local/lib/python3.8/dist-packages (from tensorboard>=2.4.1->-r requirements.txt (line 22)) (57.4.0)\n",
            "Requirement already satisfied: tensorboard-data-server<0.7.0,>=0.6.0 in /usr/local/lib/python3.8/dist-packages (from tensorboard>=2.4.1->-r requirements.txt (line 22)) (0.6.1)\n",
            "Requirement already satisfied: tensorboard-plugin-wit>=1.6.0 in /usr/local/lib/python3.8/dist-packages (from tensorboard>=2.4.1->-r requirements.txt (line 22)) (1.8.1)\n",
            "Requirement already satisfied: pytz>=2017.3 in /usr/local/lib/python3.8/dist-packages (from pandas>=1.1.4->-r requirements.txt (line 27)) (2022.6)\n",
            "Requirement already satisfied: cachetools<6.0,>=2.0.0 in /usr/local/lib/python3.8/dist-packages (from google-auth<3,>=1.6.3->tensorboard>=2.4.1->-r requirements.txt (line 22)) (5.2.0)\n",
            "Requirement already satisfied: six>=1.9.0 in /usr/local/lib/python3.8/dist-packages (from google-auth<3,>=1.6.3->tensorboard>=2.4.1->-r requirements.txt (line 22)) (1.15.0)\n",
            "Requirement already satisfied: rsa<5,>=3.1.4 in /usr/local/lib/python3.8/dist-packages (from google-auth<3,>=1.6.3->tensorboard>=2.4.1->-r requirements.txt (line 22)) (4.9)\n",
            "Requirement already satisfied: pyasn1-modules>=0.2.1 in /usr/local/lib/python3.8/dist-packages (from google-auth<3,>=1.6.3->tensorboard>=2.4.1->-r requirements.txt (line 22)) (0.2.8)\n",
            "Requirement already satisfied: requests-oauthlib>=0.7.0 in /usr/local/lib/python3.8/dist-packages (from google-auth-oauthlib<0.5,>=0.4.1->tensorboard>=2.4.1->-r requirements.txt (line 22)) (1.3.1)\n",
            "Requirement already satisfied: importlib-metadata>=4.4 in /usr/local/lib/python3.8/dist-packages (from markdown>=2.6.8->tensorboard>=2.4.1->-r requirements.txt (line 22)) (5.1.0)\n",
            "Requirement already satisfied: zipp>=0.5 in /usr/local/lib/python3.8/dist-packages (from importlib-metadata>=4.4->markdown>=2.6.8->tensorboard>=2.4.1->-r requirements.txt (line 22)) (3.11.0)\n",
            "Requirement already satisfied: pyasn1<0.5.0,>=0.4.6 in /usr/local/lib/python3.8/dist-packages (from pyasn1-modules>=0.2.1->google-auth<3,>=1.6.3->tensorboard>=2.4.1->-r requirements.txt (line 22)) (0.4.8)\n",
            "Requirement already satisfied: oauthlib>=3.0.0 in /usr/local/lib/python3.8/dist-packages (from requests-oauthlib>=0.7.0->google-auth-oauthlib<0.5,>=0.4.1->tensorboard>=2.4.1->-r requirements.txt (line 22)) (3.2.2)\n",
            "Collecting gitdb<5,>=4.0.1\n",
            "  Downloading gitdb-4.0.10-py3-none-any.whl (62 kB)\n",
            "\u001b[K     |████████████████████████████████| 62 kB 1.6 MB/s \n",
            "\u001b[?25hCollecting smmap<6,>=3.0.1\n",
            "  Downloading smmap-5.0.0-py3-none-any.whl (24 kB)\n",
            "Requirement already satisfied: prompt-toolkit<2.1.0,>=2.0.0 in /usr/local/lib/python3.8/dist-packages (from ipython->-r requirements.txt (line 6)) (2.0.10)\n",
            "Requirement already satisfied: traitlets>=4.2 in /usr/local/lib/python3.8/dist-packages (from ipython->-r requirements.txt (line 6)) (5.7.1)\n",
            "Requirement already satisfied: pexpect in /usr/local/lib/python3.8/dist-packages (from ipython->-r requirements.txt (line 6)) (4.8.0)\n",
            "Requirement already satisfied: decorator in /usr/local/lib/python3.8/dist-packages (from ipython->-r requirements.txt (line 6)) (4.4.2)\n",
            "Requirement already satisfied: pickleshare in /usr/local/lib/python3.8/dist-packages (from ipython->-r requirements.txt (line 6)) (0.7.5)\n",
            "Collecting jedi>=0.10\n",
            "  Downloading jedi-0.18.2-py2.py3-none-any.whl (1.6 MB)\n",
            "\u001b[K     |████████████████████████████████| 1.6 MB 70.4 MB/s \n",
            "\u001b[?25hRequirement already satisfied: pygments in /usr/local/lib/python3.8/dist-packages (from ipython->-r requirements.txt (line 6)) (2.6.1)\n",
            "Requirement already satisfied: backcall in /usr/local/lib/python3.8/dist-packages (from ipython->-r requirements.txt (line 6)) (0.2.0)\n",
            "Requirement already satisfied: parso<0.9.0,>=0.8.0 in /usr/local/lib/python3.8/dist-packages (from jedi>=0.10->ipython->-r requirements.txt (line 6)) (0.8.3)\n",
            "Requirement already satisfied: wcwidth in /usr/local/lib/python3.8/dist-packages (from prompt-toolkit<2.1.0,>=2.0.0->ipython->-r requirements.txt (line 6)) (0.2.5)\n",
            "Requirement already satisfied: ptyprocess>=0.5 in /usr/local/lib/python3.8/dist-packages (from pexpect->ipython->-r requirements.txt (line 6)) (0.7.0)\n",
            "Installing collected packages: smmap, jedi, gitdb, thop, gitpython\n",
            "Successfully installed gitdb-4.0.10 gitpython-3.1.29 jedi-0.18.2 smmap-5.0.0 thop-0.1.1.post2209072238\n"
          ]
        }
      ]
    },
    {
      "cell_type": "code",
      "source": [
        "!python train.py --data data.yaml --weights yolov5s.pt --batch 8 --name Model --img 640 --epochs 35"
      ],
      "metadata": {
        "colab": {
          "base_uri": "https://localhost:8080/"
        },
        "id": "zlOokUyw_5yu",
        "outputId": "a106885b-9f07-4e6e-d7ed-95cc78f2d269"
      },
      "execution_count": 9,
      "outputs": [
        {
          "output_type": "stream",
          "name": "stdout",
          "text": [
            "\u001b[34m\u001b[1mtrain: \u001b[0mweights=yolov5s.pt, cfg=, data=data.yaml, hyp=data/hyps/hyp.scratch-low.yaml, epochs=35, batch_size=8, imgsz=640, rect=False, resume=False, nosave=False, noval=False, noautoanchor=False, noplots=False, evolve=None, bucket=, cache=None, image_weights=False, device=, multi_scale=False, single_cls=False, optimizer=SGD, sync_bn=False, workers=8, project=runs/train, name=Model, exist_ok=False, quad=False, cos_lr=False, label_smoothing=0.0, patience=100, freeze=[0], save_period=-1, seed=0, local_rank=-1, entity=None, upload_dataset=False, bbox_interval=-1, artifact_alias=latest\n",
            "\u001b[34m\u001b[1mgithub: \u001b[0mup to date with https://github.com/ultralytics/yolov5 ✅\n",
            "fatal: cannot change to '/content/drive/MyDrive/polyp': No such file or directory\n",
            "YOLOv5 🚀 2022-12-28 Python-3.8.16 torch-1.13.0+cu116 CUDA:0 (Tesla T4, 15110MiB)\n",
            "\n",
            "\u001b[34m\u001b[1mhyperparameters: \u001b[0mlr0=0.01, lrf=0.01, momentum=0.937, weight_decay=0.0005, warmup_epochs=3.0, warmup_momentum=0.8, warmup_bias_lr=0.1, box=0.05, cls=0.5, cls_pw=1.0, obj=1.0, obj_pw=1.0, iou_t=0.2, anchor_t=4.0, fl_gamma=0.0, hsv_h=0.015, hsv_s=0.7, hsv_v=0.4, degrees=0.0, translate=0.1, scale=0.5, shear=0.0, perspective=0.0, flipud=0.0, fliplr=0.5, mosaic=1.0, mixup=0.0, copy_paste=0.0\n",
            "\u001b[34m\u001b[1mClearML: \u001b[0mrun 'pip install clearml' to automatically track, visualize and remotely train YOLOv5 🚀 in ClearML\n",
            "\u001b[34m\u001b[1mComet: \u001b[0mrun 'pip install comet_ml' to automatically track and visualize YOLOv5 🚀 runs in Comet\n",
            "\u001b[34m\u001b[1mTensorBoard: \u001b[0mStart with 'tensorboard --logdir runs/train', view at http://localhost:6006/\n",
            "Downloading https://ultralytics.com/assets/Arial.ttf to /root/.config/Ultralytics/Arial.ttf...\n",
            "100% 755k/755k [00:00<00:00, 142MB/s]\n",
            "Downloading https://github.com/ultralytics/yolov5/releases/download/v7.0/yolov5s.pt to yolov5s.pt...\n",
            "100% 14.1M/14.1M [00:00<00:00, 181MB/s]\n",
            "\n",
            "Overriding model.yaml nc=80 with nc=1\n",
            "\n",
            "                 from  n    params  module                                  arguments                     \n",
            "  0                -1  1      3520  models.common.Conv                      [3, 32, 6, 2, 2]              \n",
            "  1                -1  1     18560  models.common.Conv                      [32, 64, 3, 2]                \n",
            "  2                -1  1     18816  models.common.C3                        [64, 64, 1]                   \n",
            "  3                -1  1     73984  models.common.Conv                      [64, 128, 3, 2]               \n",
            "  4                -1  2    115712  models.common.C3                        [128, 128, 2]                 \n",
            "  5                -1  1    295424  models.common.Conv                      [128, 256, 3, 2]              \n",
            "  6                -1  3    625152  models.common.C3                        [256, 256, 3]                 \n",
            "  7                -1  1   1180672  models.common.Conv                      [256, 512, 3, 2]              \n",
            "  8                -1  1   1182720  models.common.C3                        [512, 512, 1]                 \n",
            "  9                -1  1    656896  models.common.SPPF                      [512, 512, 5]                 \n",
            " 10                -1  1    131584  models.common.Conv                      [512, 256, 1, 1]              \n",
            " 11                -1  1         0  torch.nn.modules.upsampling.Upsample    [None, 2, 'nearest']          \n",
            " 12           [-1, 6]  1         0  models.common.Concat                    [1]                           \n",
            " 13                -1  1    361984  models.common.C3                        [512, 256, 1, False]          \n",
            " 14                -1  1     33024  models.common.Conv                      [256, 128, 1, 1]              \n",
            " 15                -1  1         0  torch.nn.modules.upsampling.Upsample    [None, 2, 'nearest']          \n",
            " 16           [-1, 4]  1         0  models.common.Concat                    [1]                           \n",
            " 17                -1  1     90880  models.common.C3                        [256, 128, 1, False]          \n",
            " 18                -1  1    147712  models.common.Conv                      [128, 128, 3, 2]              \n",
            " 19          [-1, 14]  1         0  models.common.Concat                    [1]                           \n",
            " 20                -1  1    296448  models.common.C3                        [256, 256, 1, False]          \n",
            " 21                -1  1    590336  models.common.Conv                      [256, 256, 3, 2]              \n",
            " 22          [-1, 10]  1         0  models.common.Concat                    [1]                           \n",
            " 23                -1  1   1182720  models.common.C3                        [512, 512, 1, False]          \n",
            " 24      [17, 20, 23]  1     16182  models.yolo.Detect                      [1, [[10, 13, 16, 30, 33, 23], [30, 61, 62, 45, 59, 119], [116, 90, 156, 198, 373, 326]], [128, 256, 512]]\n",
            "Model summary: 214 layers, 7022326 parameters, 7022326 gradients, 15.9 GFLOPs\n",
            "\n",
            "Transferred 343/349 items from yolov5s.pt\n",
            "\u001b[34m\u001b[1mAMP: \u001b[0mchecks passed ✅\n",
            "\u001b[34m\u001b[1moptimizer:\u001b[0m SGD(lr=0.01) with parameter groups 57 weight(decay=0.0), 60 weight(decay=0.0005), 60 bias\n",
            "\u001b[34m\u001b[1malbumentations: \u001b[0mBlur(p=0.01, blur_limit=(3, 7)), MedianBlur(p=0.01, blur_limit=(3, 7)), ToGray(p=0.01), CLAHE(p=0.01, clip_limit=(1, 4.0), tile_grid_size=(8, 8))\n",
            "\u001b[34m\u001b[1mtrain: \u001b[0mScanning /content/drive/MyDrive/polyp Detection/dataset/train... 798 images, 0 backgrounds, 0 corrupt: 100% 798/798 [00:03<00:00, 224.44it/s]\n",
            "\u001b[34m\u001b[1mtrain: \u001b[0mNew cache created: /content/drive/MyDrive/polyp Detection/dataset/train.cache\n",
            "\u001b[34m\u001b[1mval: \u001b[0mScanning /content/drive/MyDrive/polyp Detection/dataset/test... 199 images, 0 backgrounds, 0 corrupt: 100% 199/199 [00:01<00:00, 134.08it/s]\n",
            "\u001b[34m\u001b[1mval: \u001b[0mNew cache created: /content/drive/MyDrive/polyp Detection/dataset/test.cache\n",
            "\n",
            "\u001b[34m\u001b[1mAutoAnchor: \u001b[0m4.62 anchors/target, 0.991 Best Possible Recall (BPR). Current anchors are a good fit to dataset ✅\n",
            "Plotting labels to runs/train/Model/labels.jpg... \n",
            "Image sizes 640 train, 640 val\n",
            "Using 2 dataloader workers\n",
            "Logging results to \u001b[1mruns/train/Model\u001b[0m\n",
            "Starting training for 35 epochs...\n",
            "\n",
            "      Epoch    GPU_mem   box_loss   obj_loss   cls_loss  Instances       Size\n",
            "       0/34      1.98G    0.09388    0.03245          0         13        640: 100% 100/100 [00:33<00:00,  2.95it/s]\n",
            "                 Class     Images  Instances          P          R      mAP50   mAP50-95: 100% 13/13 [00:04<00:00,  3.05it/s]\n",
            "                   all        199        285      0.375      0.337      0.285      0.121\n",
            "\n",
            "      Epoch    GPU_mem   box_loss   obj_loss   cls_loss  Instances       Size\n",
            "       1/34      2.73G    0.06256    0.02874          0         22        640: 100% 100/100 [00:31<00:00,  3.18it/s]\n",
            "                 Class     Images  Instances          P          R      mAP50   mAP50-95: 100% 13/13 [00:02<00:00,  4.55it/s]\n",
            "                   all        199        285      0.305       0.27      0.193     0.0742\n",
            "\n",
            "      Epoch    GPU_mem   box_loss   obj_loss   cls_loss  Instances       Size\n",
            "       2/34      2.73G    0.05788    0.02653          0         21        640: 100% 100/100 [00:30<00:00,  3.32it/s]\n",
            "                 Class     Images  Instances          P          R      mAP50   mAP50-95: 100% 13/13 [00:02<00:00,  4.79it/s]\n",
            "                   all        199        285      0.574      0.467      0.483      0.192\n",
            "\n",
            "      Epoch    GPU_mem   box_loss   obj_loss   cls_loss  Instances       Size\n",
            "       3/34      2.73G    0.05075    0.02454          0         13        640: 100% 100/100 [00:30<00:00,  3.28it/s]\n",
            "                 Class     Images  Instances          P          R      mAP50   mAP50-95: 100% 13/13 [00:03<00:00,  4.20it/s]\n",
            "                   all        199        285      0.663      0.635      0.669      0.332\n",
            "\n",
            "      Epoch    GPU_mem   box_loss   obj_loss   cls_loss  Instances       Size\n",
            "       4/34      2.73G    0.04698    0.02437          0         17        640: 100% 100/100 [00:34<00:00,  2.88it/s]\n",
            "                 Class     Images  Instances          P          R      mAP50   mAP50-95: 100% 13/13 [00:02<00:00,  4.54it/s]\n",
            "                   all        199        285      0.843      0.586      0.721      0.373\n",
            "\n",
            "      Epoch    GPU_mem   box_loss   obj_loss   cls_loss  Instances       Size\n",
            "       5/34      2.73G    0.04256    0.02327          0         17        640: 100% 100/100 [00:30<00:00,  3.28it/s]\n",
            "                 Class     Images  Instances          P          R      mAP50   mAP50-95: 100% 13/13 [00:02<00:00,  4.37it/s]\n",
            "                   all        199        285      0.731      0.519       0.62      0.365\n",
            "\n",
            "      Epoch    GPU_mem   box_loss   obj_loss   cls_loss  Instances       Size\n",
            "       6/34      2.73G     0.0407    0.02271          0         11        640: 100% 100/100 [00:30<00:00,  3.32it/s]\n",
            "                 Class     Images  Instances          P          R      mAP50   mAP50-95: 100% 13/13 [00:02<00:00,  4.37it/s]\n",
            "                   all        199        285      0.731      0.678      0.759      0.431\n",
            "\n",
            "      Epoch    GPU_mem   box_loss   obj_loss   cls_loss  Instances       Size\n",
            "       7/34      2.73G    0.04004    0.02319          0         14        640: 100% 100/100 [00:30<00:00,  3.30it/s]\n",
            "                 Class     Images  Instances          P          R      mAP50   mAP50-95: 100% 13/13 [00:02<00:00,  4.41it/s]\n",
            "                   all        199        285      0.799      0.642      0.748      0.444\n",
            "\n",
            "      Epoch    GPU_mem   box_loss   obj_loss   cls_loss  Instances       Size\n",
            "       8/34      2.73G     0.0389    0.02293          0         18        640: 100% 100/100 [00:30<00:00,  3.30it/s]\n",
            "                 Class     Images  Instances          P          R      mAP50   mAP50-95: 100% 13/13 [00:02<00:00,  4.67it/s]\n",
            "                   all        199        285      0.781      0.709      0.775      0.472\n",
            "\n",
            "      Epoch    GPU_mem   box_loss   obj_loss   cls_loss  Instances       Size\n",
            "       9/34      2.73G    0.03671    0.02077          0         12        640: 100% 100/100 [00:30<00:00,  3.32it/s]\n",
            "                 Class     Images  Instances          P          R      mAP50   mAP50-95: 100% 13/13 [00:03<00:00,  4.26it/s]\n",
            "                   all        199        285      0.777      0.646      0.763      0.427\n",
            "\n",
            "      Epoch    GPU_mem   box_loss   obj_loss   cls_loss  Instances       Size\n",
            "      10/34      2.73G    0.03666    0.02157          0         18        640: 100% 100/100 [00:30<00:00,  3.25it/s]\n",
            "                 Class     Images  Instances          P          R      mAP50   mAP50-95: 100% 13/13 [00:02<00:00,  4.68it/s]\n",
            "                   all        199        285      0.713      0.733      0.779      0.478\n",
            "\n",
            "      Epoch    GPU_mem   box_loss   obj_loss   cls_loss  Instances       Size\n",
            "      11/34      2.73G    0.03538    0.02092          0         11        640: 100% 100/100 [00:32<00:00,  3.05it/s]\n",
            "                 Class     Images  Instances          P          R      mAP50   mAP50-95: 100% 13/13 [00:05<00:00,  2.47it/s]\n",
            "                   all        199        285      0.758      0.735      0.779      0.506\n",
            "\n",
            "      Epoch    GPU_mem   box_loss   obj_loss   cls_loss  Instances       Size\n",
            "      12/34      2.73G    0.03422    0.02172          0         21        640: 100% 100/100 [00:30<00:00,  3.26it/s]\n",
            "                 Class     Images  Instances          P          R      mAP50   mAP50-95: 100% 13/13 [00:02<00:00,  4.34it/s]\n",
            "                   all        199        285      0.788      0.716      0.806      0.506\n",
            "\n",
            "      Epoch    GPU_mem   box_loss   obj_loss   cls_loss  Instances       Size\n",
            "      13/34      2.73G    0.03259     0.0204          0         22        640: 100% 100/100 [00:30<00:00,  3.30it/s]\n",
            "                 Class     Images  Instances          P          R      mAP50   mAP50-95: 100% 13/13 [00:02<00:00,  4.40it/s]\n",
            "                   all        199        285      0.897      0.674      0.802      0.503\n",
            "\n",
            "      Epoch    GPU_mem   box_loss   obj_loss   cls_loss  Instances       Size\n",
            "      14/34      2.73G    0.03309    0.01982          0         18        640: 100% 100/100 [00:30<00:00,  3.30it/s]\n",
            "                 Class     Images  Instances          P          R      mAP50   mAP50-95: 100% 13/13 [00:02<00:00,  4.83it/s]\n",
            "                   all        199        285      0.826      0.702      0.807      0.523\n",
            "\n",
            "      Epoch    GPU_mem   box_loss   obj_loss   cls_loss  Instances       Size\n",
            "      15/34      2.73G    0.03181    0.01946          0         19        640: 100% 100/100 [00:30<00:00,  3.30it/s]\n",
            "                 Class     Images  Instances          P          R      mAP50   mAP50-95: 100% 13/13 [00:02<00:00,  4.55it/s]\n",
            "                   all        199        285      0.822      0.665      0.789      0.495\n",
            "\n",
            "      Epoch    GPU_mem   box_loss   obj_loss   cls_loss  Instances       Size\n",
            "      16/34      2.73G    0.03188    0.02019          0         19        640: 100% 100/100 [00:29<00:00,  3.36it/s]\n",
            "                 Class     Images  Instances          P          R      mAP50   mAP50-95: 100% 13/13 [00:02<00:00,  4.38it/s]\n",
            "                   all        199        285      0.814      0.733      0.824      0.526\n",
            "\n",
            "      Epoch    GPU_mem   box_loss   obj_loss   cls_loss  Instances       Size\n",
            "      17/34      2.73G    0.03087    0.01995          0         18        640: 100% 100/100 [00:30<00:00,  3.29it/s]\n",
            "                 Class     Images  Instances          P          R      mAP50   mAP50-95: 100% 13/13 [00:02<00:00,  4.50it/s]\n",
            "                   all        199        285      0.798      0.679      0.776      0.501\n",
            "\n",
            "      Epoch    GPU_mem   box_loss   obj_loss   cls_loss  Instances       Size\n",
            "      18/34      2.73G    0.03071    0.01918          0         21        640: 100% 100/100 [00:30<00:00,  3.31it/s]\n",
            "                 Class     Images  Instances          P          R      mAP50   mAP50-95: 100% 13/13 [00:02<00:00,  4.38it/s]\n",
            "                   all        199        285      0.824      0.709      0.814      0.524\n",
            "\n",
            "      Epoch    GPU_mem   box_loss   obj_loss   cls_loss  Instances       Size\n",
            "      19/34      2.73G    0.03107     0.0195          0         14        640: 100% 100/100 [00:34<00:00,  2.92it/s]\n",
            "                 Class     Images  Instances          P          R      mAP50   mAP50-95: 100% 13/13 [00:02<00:00,  4.62it/s]\n",
            "                   all        199        285      0.864      0.695      0.806      0.513\n",
            "\n",
            "      Epoch    GPU_mem   box_loss   obj_loss   cls_loss  Instances       Size\n",
            "      20/34      2.73G    0.03019    0.01941          0         16        640: 100% 100/100 [00:30<00:00,  3.31it/s]\n",
            "                 Class     Images  Instances          P          R      mAP50   mAP50-95: 100% 13/13 [00:02<00:00,  4.57it/s]\n",
            "                   all        199        285      0.767      0.737      0.798      0.511\n",
            "\n",
            "      Epoch    GPU_mem   box_loss   obj_loss   cls_loss  Instances       Size\n",
            "      21/34      2.73G    0.02966    0.01834          0         12        640: 100% 100/100 [00:30<00:00,  3.28it/s]\n",
            "                 Class     Images  Instances          P          R      mAP50   mAP50-95: 100% 13/13 [00:02<00:00,  4.55it/s]\n",
            "                   all        199        285       0.81      0.704      0.794      0.508\n",
            "\n",
            "      Epoch    GPU_mem   box_loss   obj_loss   cls_loss  Instances       Size\n",
            "      22/34      2.73G    0.02931    0.01855          0         13        640: 100% 100/100 [00:30<00:00,  3.25it/s]\n",
            "                 Class     Images  Instances          P          R      mAP50   mAP50-95: 100% 13/13 [00:02<00:00,  4.58it/s]\n",
            "                   all        199        285        0.8       0.74      0.808      0.523\n",
            "\n",
            "      Epoch    GPU_mem   box_loss   obj_loss   cls_loss  Instances       Size\n",
            "      23/34      2.73G     0.0279    0.01752          0         10        640: 100% 100/100 [00:30<00:00,  3.33it/s]\n",
            "                 Class     Images  Instances          P          R      mAP50   mAP50-95: 100% 13/13 [00:03<00:00,  4.23it/s]\n",
            "                   all        199        285      0.797      0.726      0.796      0.506\n",
            "\n",
            "      Epoch    GPU_mem   box_loss   obj_loss   cls_loss  Instances       Size\n",
            "      24/34      2.73G    0.02813    0.01843          0         12        640: 100% 100/100 [00:30<00:00,  3.32it/s]\n",
            "                 Class     Images  Instances          P          R      mAP50   mAP50-95: 100% 13/13 [00:02<00:00,  4.47it/s]\n",
            "                   all        199        285      0.754      0.711      0.782      0.505\n",
            "\n",
            "      Epoch    GPU_mem   box_loss   obj_loss   cls_loss  Instances       Size\n",
            "      25/34      2.73G    0.02831    0.01791          0         16        640: 100% 100/100 [00:29<00:00,  3.34it/s]\n",
            "                 Class     Images  Instances          P          R      mAP50   mAP50-95: 100% 13/13 [00:02<00:00,  4.42it/s]\n",
            "                   all        199        285      0.792      0.734      0.799      0.519\n",
            "\n",
            "      Epoch    GPU_mem   box_loss   obj_loss   cls_loss  Instances       Size\n",
            "      26/34      2.73G     0.0274    0.01867          0         12        640: 100% 100/100 [00:30<00:00,  3.26it/s]\n",
            "                 Class     Images  Instances          P          R      mAP50   mAP50-95: 100% 13/13 [00:05<00:00,  2.53it/s]\n",
            "                   all        199        285      0.818      0.723      0.816      0.533\n",
            "\n",
            "      Epoch    GPU_mem   box_loss   obj_loss   cls_loss  Instances       Size\n",
            "      27/34      2.73G    0.02666    0.01762          0         12        640: 100% 100/100 [00:31<00:00,  3.20it/s]\n",
            "                 Class     Images  Instances          P          R      mAP50   mAP50-95: 100% 13/13 [00:02<00:00,  4.44it/s]\n",
            "                   all        199        285      0.823      0.723      0.814      0.535\n",
            "\n",
            "      Epoch    GPU_mem   box_loss   obj_loss   cls_loss  Instances       Size\n",
            "      28/34      2.73G    0.02654    0.01694          0          9        640: 100% 100/100 [00:30<00:00,  3.28it/s]\n",
            "                 Class     Images  Instances          P          R      mAP50   mAP50-95: 100% 13/13 [00:02<00:00,  4.74it/s]\n",
            "                   all        199        285      0.789      0.734      0.812       0.53\n",
            "\n",
            "      Epoch    GPU_mem   box_loss   obj_loss   cls_loss  Instances       Size\n",
            "      29/34      2.73G    0.02615    0.01691          0         13        640: 100% 100/100 [00:30<00:00,  3.29it/s]\n",
            "                 Class     Images  Instances          P          R      mAP50   mAP50-95: 100% 13/13 [00:02<00:00,  4.37it/s]\n",
            "                   all        199        285      0.822       0.73       0.81      0.533\n",
            "\n",
            "      Epoch    GPU_mem   box_loss   obj_loss   cls_loss  Instances       Size\n",
            "      30/34      2.73G    0.02633    0.01604          0         20        640: 100% 100/100 [00:29<00:00,  3.33it/s]\n",
            "                 Class     Images  Instances          P          R      mAP50   mAP50-95: 100% 13/13 [00:02<00:00,  4.51it/s]\n",
            "                   all        199        285      0.821      0.741      0.811      0.533\n",
            "\n",
            "      Epoch    GPU_mem   box_loss   obj_loss   cls_loss  Instances       Size\n",
            "      31/34      2.73G    0.02586    0.01755          0         13        640: 100% 100/100 [00:30<00:00,  3.31it/s]\n",
            "                 Class     Images  Instances          P          R      mAP50   mAP50-95: 100% 13/13 [00:02<00:00,  4.39it/s]\n",
            "                   all        199        285      0.749      0.751      0.795      0.522\n",
            "\n",
            "      Epoch    GPU_mem   box_loss   obj_loss   cls_loss  Instances       Size\n",
            "      32/34      2.73G    0.02577    0.01649          0         18        640: 100% 100/100 [00:30<00:00,  3.32it/s]\n",
            "                 Class     Images  Instances          P          R      mAP50   mAP50-95: 100% 13/13 [00:02<00:00,  4.66it/s]\n",
            "                   all        199        285      0.825      0.759      0.816      0.541\n",
            "\n",
            "      Epoch    GPU_mem   box_loss   obj_loss   cls_loss  Instances       Size\n",
            "      33/34      2.73G    0.02578    0.01642          0         15        640: 100% 100/100 [00:30<00:00,  3.28it/s]\n",
            "                 Class     Images  Instances          P          R      mAP50   mAP50-95: 100% 13/13 [00:02<00:00,  4.61it/s]\n",
            "                   all        199        285      0.798      0.719      0.807      0.532\n",
            "\n",
            "      Epoch    GPU_mem   box_loss   obj_loss   cls_loss  Instances       Size\n",
            "      34/34      2.73G    0.02443    0.01619          0         19        640: 100% 100/100 [00:34<00:00,  2.93it/s]\n",
            "                 Class     Images  Instances          P          R      mAP50   mAP50-95: 100% 13/13 [00:02<00:00,  4.71it/s]\n",
            "                   all        199        285      0.807      0.732      0.809      0.535\n",
            "\n",
            "35 epochs completed in 0.336 hours.\n",
            "Optimizer stripped from runs/train/Model/weights/last.pt, 14.4MB\n",
            "Optimizer stripped from runs/train/Model/weights/best.pt, 14.4MB\n",
            "\n",
            "Validating runs/train/Model/weights/best.pt...\n",
            "Fusing layers... \n",
            "Model summary: 157 layers, 7012822 parameters, 0 gradients, 15.8 GFLOPs\n",
            "                 Class     Images  Instances          P          R      mAP50   mAP50-95: 100% 13/13 [00:03<00:00,  3.63it/s]\n",
            "                   all        199        285      0.824      0.756      0.816      0.541\n",
            "Results saved to \u001b[1mruns/train/Model\u001b[0m\n"
          ]
        }
      ]
    },
    {
      "cell_type": "code",
      "source": [
        "!python train.py --data data.yaml --weights yolov5l.pt --batch 8 --name Model --img 640 --epochs 5"
      ],
      "metadata": {
        "id": "0SNLSp1zGMNK"
      },
      "execution_count": null,
      "outputs": []
    }
  ]
}