{
  "nbformat": 4,
  "nbformat_minor": 0,
  "metadata": {
    "colab": {
      "provenance": [],
      "mount_file_id": "1kwZR4CVsVKJ9fDh8kWLEPHUTTMs8mntt",
      "authorship_tag": "ABX9TyOTGy2eVPw46pEVaUNE3uPG",
      "include_colab_link": true
    },
    "kernelspec": {
      "name": "python3",
      "display_name": "Python 3"
    },
    "language_info": {
      "name": "python"
    }
  },
  "cells": [
    {
      "cell_type": "markdown",
      "metadata": {
        "id": "view-in-github",
        "colab_type": "text"
      },
      "source": [
        "<a href=\"https://colab.research.google.com/github/MoizAhmed2517/Deep_Learning_Projects/blob/main/Yolo_Multi_object_Detection.ipynb\" target=\"_parent\"><img src=\"https://colab.research.google.com/assets/colab-badge.svg\" alt=\"Open In Colab\"/></a>"
      ]
    },
    {
      "cell_type": "markdown",
      "source": [
        "# Multi Object Detection Yolo"
      ],
      "metadata": {
        "id": "-QcarqHipJC5"
      }
    },
    {
      "cell_type": "code",
      "source": [
        "import os\n",
        "from glob import glob\n",
        "import pandas as pd\n",
        "from functools import reduce\n",
        "from xml.etree import ElementTree as et\n",
        "import zipfile \n",
        "from google.colab import drive"
      ],
      "metadata": {
        "id": "K2OVD8TTpOfz"
      },
      "execution_count": 1,
      "outputs": []
    },
    {
      "cell_type": "code",
      "source": [
        "!wget https://drive.google.com/file/d/1gJEhVWgUMbYq6X3YjI_2PveQiYKCSUy0/view?usp=share_link"
      ],
      "metadata": {
        "colab": {
          "base_uri": "https://localhost:8080/"
        },
        "id": "N7c-cKEGpfrz",
        "outputId": "0e683caa-9058-45cb-97e9-7651849951d9"
      },
      "execution_count": 2,
      "outputs": [
        {
          "output_type": "stream",
          "name": "stdout",
          "text": [
            "--2022-12-06 18:46:35--  https://drive.google.com/file/d/1gJEhVWgUMbYq6X3YjI_2PveQiYKCSUy0/view?usp=share_link\n",
            "Resolving drive.google.com (drive.google.com)... 142.251.162.101, 142.251.162.102, 142.251.162.113, ...\n",
            "Connecting to drive.google.com (drive.google.com)|142.251.162.101|:443... connected.\n",
            "HTTP request sent, awaiting response... 200 OK\n",
            "Length: unspecified [text/html]\n",
            "Saving to: ‘view?usp=share_link’\n",
            "\n",
            "view?usp=share_link     [ <=>                ]  72.88K  --.-KB/s    in 0.002s  \n",
            "\n",
            "2022-12-06 18:46:35 (30.3 MB/s) - ‘view?usp=share_link’ saved [74630]\n",
            "\n"
          ]
        }
      ]
    },
    {
      "cell_type": "code",
      "source": [
        "zip_ref = zipfile.ZipFile(\"/content/drive/MyDrive/Datasets/data-images.zip\")\n",
        "zip_ref.extractall()\n",
        "zip_ref.close()"
      ],
      "metadata": {
        "id": "ZzrjmbC7wNZV"
      },
      "execution_count": 3,
      "outputs": []
    },
    {
      "cell_type": "code",
      "source": [
        "xml_lst = glob(\"/content/data_images/*.xml\")"
      ],
      "metadata": {
        "id": "0JqCc3CQxXi6"
      },
      "execution_count": 4,
      "outputs": []
    },
    {
      "cell_type": "code",
      "source": [],
      "metadata": {
        "id": "y1OCBAnLy2pb"
      },
      "execution_count": null,
      "outputs": []
    }
  ]
}