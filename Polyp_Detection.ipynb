{
  "nbformat": 4,
  "nbformat_minor": 0,
  "metadata": {
    "colab": {
      "provenance": [],
      "mount_file_id": "1aqNiisVDERUpKkweLmDnKg2ViZbqTZkU",
      "authorship_tag": "ABX9TyOnITDuQ3TjW5Jq03L9LRNU",
      "include_colab_link": true
    },
    "kernelspec": {
      "name": "python3",
      "display_name": "Python 3"
    },
    "language_info": {
      "name": "python"
    }
  },
  "cells": [
    {
      "cell_type": "markdown",
      "metadata": {
        "id": "view-in-github",
        "colab_type": "text"
      },
      "source": [
        "<a href=\"https://colab.research.google.com/github/MoizAhmed2517/Deep_Learning_Projects/blob/main/Polyp_Detection.ipynb\" target=\"_parent\"><img src=\"https://colab.research.google.com/assets/colab-badge.svg\" alt=\"Open In Colab\"/></a>"
      ]
    },
    {
      "cell_type": "markdown",
      "source": [
        "#Polyp Detection - Using YOLOv5"
      ],
      "metadata": {
        "id": "EC_3m3oMeUUz"
      }
    },
    {
      "cell_type": "code",
      "source": [
        "import os\n",
        "from glob import glob\n",
        "import pandas as pd\n",
        "from functools import reduce\n",
        "from xml.etree import ElementTree as et\n",
        "import zipfile \n",
        "from google.colab import drive\n",
        "import seaborn as sns\n",
        "import matplotlib.pyplot as plt\n",
        "import numpy as np\n",
        "from sklearn.preprocessing import LabelEncoder\n",
        "from shutil import move"
      ],
      "metadata": {
        "id": "xcPmZkF1eXWe"
      },
      "execution_count": 1,
      "outputs": []
    },
    {
      "cell_type": "code",
      "source": [
        "os.chdir(\"/content/drive/MyDrive/Polyp Detection\")"
      ],
      "metadata": {
        "id": "JpyDzOsXe0yR"
      },
      "execution_count": 2,
      "outputs": []
    },
    {
      "cell_type": "code",
      "source": [
        "!pwd"
      ],
      "metadata": {
        "colab": {
          "base_uri": "https://localhost:8080/"
        },
        "id": "VieJOWp2bbFU",
        "outputId": "383b47d3-fd88-47a4-e700-fc48372e7b0a"
      },
      "execution_count": 3,
      "outputs": [
        {
          "output_type": "stream",
          "name": "stdout",
          "text": [
            "/content/drive/MyDrive/Polyp Detection\n"
          ]
        }
      ]
    },
    {
      "cell_type": "code",
      "source": [
        "!ls"
      ],
      "metadata": {
        "colab": {
          "base_uri": "https://localhost:8080/"
        },
        "id": "rT6936VEbc03",
        "outputId": "d97c2c9e-065c-4da2-e1b2-c9420a6d0205"
      },
      "execution_count": 4,
      "outputs": [
        {
          "output_type": "stream",
          "name": "stdout",
          "text": [
            "'Polyp Detection.ipynb'\n"
          ]
        }
      ]
    },
    {
      "cell_type": "code",
      "source": [
        "!git clone https://github.com/ultralytics/yolov5.git"
      ],
      "metadata": {
        "colab": {
          "base_uri": "https://localhost:8080/"
        },
        "id": "MWlnqaafbhbL",
        "outputId": "526b4060-ed72-4e30-ab4c-e46e7f0f3700"
      },
      "execution_count": 5,
      "outputs": [
        {
          "output_type": "stream",
          "name": "stdout",
          "text": [
            "Cloning into 'yolov5'...\n",
            "remote: Enumerating objects: 14887, done.\u001b[K\n",
            "remote: Counting objects: 100% (5/5), done.\u001b[K\n",
            "remote: Compressing objects: 100% (5/5), done.\u001b[K\n",
            "remote: Total 14887 (delta 0), reused 0 (delta 0), pack-reused 14882\u001b[K\n",
            "Receiving objects: 100% (14887/14887), 13.86 MiB | 6.83 MiB/s, done.\n",
            "Resolving deltas: 100% (10246/10246), done.\n"
          ]
        }
      ]
    },
    {
      "cell_type": "code",
      "source": [
        "zip_ref = zipfile.ZipFile(\"/content/drive/MyDrive/Polyp Detection/dataset.zip\")\n",
        "zip_ref.extractall()\n",
        "zip_ref.close()"
      ],
      "metadata": {
        "id": "Fc5MO65rbz__"
      },
      "execution_count": 7,
      "outputs": []
    },
    {
      "cell_type": "code",
      "source": [
        "os.chdir('yolov5')"
      ],
      "metadata": {
        "id": "Q47X7N61dUcQ"
      },
      "execution_count": 8,
      "outputs": []
    },
    {
      "cell_type": "code",
      "source": [
        "!pip install -r requirements.txt"
      ],
      "metadata": {
        "colab": {
          "base_uri": "https://localhost:8080/"
        },
        "id": "dTNfSba0fgFK",
        "outputId": "f252267c-8b61-403c-ffc4-6983690bdd1c"
      },
      "execution_count": 9,
      "outputs": [
        {
          "output_type": "stream",
          "name": "stdout",
          "text": [
            "Looking in indexes: https://pypi.org/simple, https://us-python.pkg.dev/colab-wheels/public/simple/\n",
            "Collecting gitpython\n",
            "  Downloading GitPython-3.1.29-py3-none-any.whl (182 kB)\n",
            "\u001b[K     |████████████████████████████████| 182 kB 4.2 MB/s \n",
            "\u001b[?25hRequirement already satisfied: ipython in /usr/local/lib/python3.8/dist-packages (from -r requirements.txt (line 6)) (7.9.0)\n",
            "Requirement already satisfied: matplotlib>=3.2.2 in /usr/local/lib/python3.8/dist-packages (from -r requirements.txt (line 7)) (3.2.2)\n",
            "Requirement already satisfied: numpy>=1.18.5 in /usr/local/lib/python3.8/dist-packages (from -r requirements.txt (line 8)) (1.21.6)\n",
            "Requirement already satisfied: opencv-python>=4.1.1 in /usr/local/lib/python3.8/dist-packages (from -r requirements.txt (line 9)) (4.6.0.66)\n",
            "Requirement already satisfied: Pillow>=7.1.2 in /usr/local/lib/python3.8/dist-packages (from -r requirements.txt (line 10)) (7.1.2)\n",
            "Requirement already satisfied: psutil in /usr/local/lib/python3.8/dist-packages (from -r requirements.txt (line 11)) (5.4.8)\n",
            "Requirement already satisfied: PyYAML>=5.3.1 in /usr/local/lib/python3.8/dist-packages (from -r requirements.txt (line 12)) (6.0)\n",
            "Requirement already satisfied: requests>=2.23.0 in /usr/local/lib/python3.8/dist-packages (from -r requirements.txt (line 13)) (2.23.0)\n",
            "Requirement already satisfied: scipy>=1.4.1 in /usr/local/lib/python3.8/dist-packages (from -r requirements.txt (line 14)) (1.7.3)\n",
            "Collecting thop>=0.1.1\n",
            "  Downloading thop-0.1.1.post2209072238-py3-none-any.whl (15 kB)\n",
            "Requirement already satisfied: torch>=1.7.0 in /usr/local/lib/python3.8/dist-packages (from -r requirements.txt (line 16)) (1.13.0+cu116)\n",
            "Requirement already satisfied: torchvision>=0.8.1 in /usr/local/lib/python3.8/dist-packages (from -r requirements.txt (line 17)) (0.14.0+cu116)\n",
            "Requirement already satisfied: tqdm>=4.64.0 in /usr/local/lib/python3.8/dist-packages (from -r requirements.txt (line 18)) (4.64.1)\n",
            "Requirement already satisfied: tensorboard>=2.4.1 in /usr/local/lib/python3.8/dist-packages (from -r requirements.txt (line 22)) (2.9.1)\n",
            "Requirement already satisfied: pandas>=1.1.4 in /usr/local/lib/python3.8/dist-packages (from -r requirements.txt (line 27)) (1.3.5)\n",
            "Requirement already satisfied: seaborn>=0.11.0 in /usr/local/lib/python3.8/dist-packages (from -r requirements.txt (line 28)) (0.11.2)\n",
            "Requirement already satisfied: python-dateutil>=2.1 in /usr/local/lib/python3.8/dist-packages (from matplotlib>=3.2.2->-r requirements.txt (line 7)) (2.8.2)\n",
            "Requirement already satisfied: kiwisolver>=1.0.1 in /usr/local/lib/python3.8/dist-packages (from matplotlib>=3.2.2->-r requirements.txt (line 7)) (1.4.4)\n",
            "Requirement already satisfied: cycler>=0.10 in /usr/local/lib/python3.8/dist-packages (from matplotlib>=3.2.2->-r requirements.txt (line 7)) (0.11.0)\n",
            "Requirement already satisfied: pyparsing!=2.0.4,!=2.1.2,!=2.1.6,>=2.0.1 in /usr/local/lib/python3.8/dist-packages (from matplotlib>=3.2.2->-r requirements.txt (line 7)) (3.0.9)\n",
            "Requirement already satisfied: certifi>=2017.4.17 in /usr/local/lib/python3.8/dist-packages (from requests>=2.23.0->-r requirements.txt (line 13)) (2022.12.7)\n",
            "Requirement already satisfied: chardet<4,>=3.0.2 in /usr/local/lib/python3.8/dist-packages (from requests>=2.23.0->-r requirements.txt (line 13)) (3.0.4)\n",
            "Requirement already satisfied: idna<3,>=2.5 in /usr/local/lib/python3.8/dist-packages (from requests>=2.23.0->-r requirements.txt (line 13)) (2.10)\n",
            "Requirement already satisfied: urllib3!=1.25.0,!=1.25.1,<1.26,>=1.21.1 in /usr/local/lib/python3.8/dist-packages (from requests>=2.23.0->-r requirements.txt (line 13)) (1.24.3)\n",
            "Requirement already satisfied: typing-extensions in /usr/local/lib/python3.8/dist-packages (from torch>=1.7.0->-r requirements.txt (line 16)) (4.4.0)\n",
            "Requirement already satisfied: absl-py>=0.4 in /usr/local/lib/python3.8/dist-packages (from tensorboard>=2.4.1->-r requirements.txt (line 22)) (1.3.0)\n",
            "Requirement already satisfied: tensorboard-plugin-wit>=1.6.0 in /usr/local/lib/python3.8/dist-packages (from tensorboard>=2.4.1->-r requirements.txt (line 22)) (1.8.1)\n",
            "Requirement already satisfied: tensorboard-data-server<0.7.0,>=0.6.0 in /usr/local/lib/python3.8/dist-packages (from tensorboard>=2.4.1->-r requirements.txt (line 22)) (0.6.1)\n",
            "Requirement already satisfied: google-auth-oauthlib<0.5,>=0.4.1 in /usr/local/lib/python3.8/dist-packages (from tensorboard>=2.4.1->-r requirements.txt (line 22)) (0.4.6)\n",
            "Requirement already satisfied: protobuf<3.20,>=3.9.2 in /usr/local/lib/python3.8/dist-packages (from tensorboard>=2.4.1->-r requirements.txt (line 22)) (3.19.6)\n",
            "Requirement already satisfied: wheel>=0.26 in /usr/local/lib/python3.8/dist-packages (from tensorboard>=2.4.1->-r requirements.txt (line 22)) (0.38.4)\n",
            "Requirement already satisfied: setuptools>=41.0.0 in /usr/local/lib/python3.8/dist-packages (from tensorboard>=2.4.1->-r requirements.txt (line 22)) (57.4.0)\n",
            "Requirement already satisfied: markdown>=2.6.8 in /usr/local/lib/python3.8/dist-packages (from tensorboard>=2.4.1->-r requirements.txt (line 22)) (3.4.1)\n",
            "Requirement already satisfied: werkzeug>=1.0.1 in /usr/local/lib/python3.8/dist-packages (from tensorboard>=2.4.1->-r requirements.txt (line 22)) (1.0.1)\n",
            "Requirement already satisfied: google-auth<3,>=1.6.3 in /usr/local/lib/python3.8/dist-packages (from tensorboard>=2.4.1->-r requirements.txt (line 22)) (2.15.0)\n",
            "Requirement already satisfied: grpcio>=1.24.3 in /usr/local/lib/python3.8/dist-packages (from tensorboard>=2.4.1->-r requirements.txt (line 22)) (1.51.1)\n",
            "Requirement already satisfied: pytz>=2017.3 in /usr/local/lib/python3.8/dist-packages (from pandas>=1.1.4->-r requirements.txt (line 27)) (2022.6)\n",
            "Requirement already satisfied: six>=1.9.0 in /usr/local/lib/python3.8/dist-packages (from google-auth<3,>=1.6.3->tensorboard>=2.4.1->-r requirements.txt (line 22)) (1.15.0)\n",
            "Requirement already satisfied: cachetools<6.0,>=2.0.0 in /usr/local/lib/python3.8/dist-packages (from google-auth<3,>=1.6.3->tensorboard>=2.4.1->-r requirements.txt (line 22)) (5.2.0)\n",
            "Requirement already satisfied: rsa<5,>=3.1.4 in /usr/local/lib/python3.8/dist-packages (from google-auth<3,>=1.6.3->tensorboard>=2.4.1->-r requirements.txt (line 22)) (4.9)\n",
            "Requirement already satisfied: pyasn1-modules>=0.2.1 in /usr/local/lib/python3.8/dist-packages (from google-auth<3,>=1.6.3->tensorboard>=2.4.1->-r requirements.txt (line 22)) (0.2.8)\n",
            "Requirement already satisfied: requests-oauthlib>=0.7.0 in /usr/local/lib/python3.8/dist-packages (from google-auth-oauthlib<0.5,>=0.4.1->tensorboard>=2.4.1->-r requirements.txt (line 22)) (1.3.1)\n",
            "Requirement already satisfied: importlib-metadata>=4.4 in /usr/local/lib/python3.8/dist-packages (from markdown>=2.6.8->tensorboard>=2.4.1->-r requirements.txt (line 22)) (5.1.0)\n",
            "Requirement already satisfied: zipp>=0.5 in /usr/local/lib/python3.8/dist-packages (from importlib-metadata>=4.4->markdown>=2.6.8->tensorboard>=2.4.1->-r requirements.txt (line 22)) (3.11.0)\n",
            "Requirement already satisfied: pyasn1<0.5.0,>=0.4.6 in /usr/local/lib/python3.8/dist-packages (from pyasn1-modules>=0.2.1->google-auth<3,>=1.6.3->tensorboard>=2.4.1->-r requirements.txt (line 22)) (0.4.8)\n",
            "Requirement already satisfied: oauthlib>=3.0.0 in /usr/local/lib/python3.8/dist-packages (from requests-oauthlib>=0.7.0->google-auth-oauthlib<0.5,>=0.4.1->tensorboard>=2.4.1->-r requirements.txt (line 22)) (3.2.2)\n",
            "Collecting gitdb<5,>=4.0.1\n",
            "  Downloading gitdb-4.0.10-py3-none-any.whl (62 kB)\n",
            "\u001b[K     |████████████████████████████████| 62 kB 1.5 MB/s \n",
            "\u001b[?25hCollecting smmap<6,>=3.0.1\n",
            "  Downloading smmap-5.0.0-py3-none-any.whl (24 kB)\n",
            "Requirement already satisfied: pexpect in /usr/local/lib/python3.8/dist-packages (from ipython->-r requirements.txt (line 6)) (4.8.0)\n",
            "Requirement already satisfied: pickleshare in /usr/local/lib/python3.8/dist-packages (from ipython->-r requirements.txt (line 6)) (0.7.5)\n",
            "Requirement already satisfied: traitlets>=4.2 in /usr/local/lib/python3.8/dist-packages (from ipython->-r requirements.txt (line 6)) (5.7.1)\n",
            "Collecting jedi>=0.10\n",
            "  Downloading jedi-0.18.2-py2.py3-none-any.whl (1.6 MB)\n",
            "\u001b[K     |████████████████████████████████| 1.6 MB 55.5 MB/s \n",
            "\u001b[?25hRequirement already satisfied: prompt-toolkit<2.1.0,>=2.0.0 in /usr/local/lib/python3.8/dist-packages (from ipython->-r requirements.txt (line 6)) (2.0.10)\n",
            "Requirement already satisfied: decorator in /usr/local/lib/python3.8/dist-packages (from ipython->-r requirements.txt (line 6)) (4.4.2)\n",
            "Requirement already satisfied: pygments in /usr/local/lib/python3.8/dist-packages (from ipython->-r requirements.txt (line 6)) (2.6.1)\n",
            "Requirement already satisfied: backcall in /usr/local/lib/python3.8/dist-packages (from ipython->-r requirements.txt (line 6)) (0.2.0)\n",
            "Requirement already satisfied: parso<0.9.0,>=0.8.0 in /usr/local/lib/python3.8/dist-packages (from jedi>=0.10->ipython->-r requirements.txt (line 6)) (0.8.3)\n",
            "Requirement already satisfied: wcwidth in /usr/local/lib/python3.8/dist-packages (from prompt-toolkit<2.1.0,>=2.0.0->ipython->-r requirements.txt (line 6)) (0.2.5)\n",
            "Requirement already satisfied: ptyprocess>=0.5 in /usr/local/lib/python3.8/dist-packages (from pexpect->ipython->-r requirements.txt (line 6)) (0.7.0)\n",
            "Installing collected packages: smmap, jedi, gitdb, thop, gitpython\n",
            "Successfully installed gitdb-4.0.10 gitpython-3.1.29 jedi-0.18.2 smmap-5.0.0 thop-0.1.1.post2209072238\n"
          ]
        }
      ]
    },
    {
      "cell_type": "markdown",
      "source": [
        "## Data Preparation - Reading XML Files"
      ],
      "metadata": {
        "id": "X7ciNrDHfjE7"
      }
    },
    {
      "cell_type": "code",
      "source": [
        "xml_lst = glob(\"/content/drive/MyDrive/Polyp Detection/dataset/*.xml\")"
      ],
      "metadata": {
        "id": "L2cqqpbNfsZS"
      },
      "execution_count": 10,
      "outputs": []
    },
    {
      "cell_type": "code",
      "source": [
        "xml_lst[:5]"
      ],
      "metadata": {
        "colab": {
          "base_uri": "https://localhost:8080/"
        },
        "id": "-5JDx-9Vg5gE",
        "outputId": "98d4d20a-b19f-4a23-b4bd-03189b3e697e"
      },
      "execution_count": 13,
      "outputs": [
        {
          "output_type": "execute_result",
          "data": {
            "text/plain": [
              "['/content/drive/MyDrive/Polyp Detection/dataset/1.xml',\n",
              " '/content/drive/MyDrive/Polyp Detection/dataset/10.xml',\n",
              " '/content/drive/MyDrive/Polyp Detection/dataset/100.xml',\n",
              " '/content/drive/MyDrive/Polyp Detection/dataset/1000.xml',\n",
              " '/content/drive/MyDrive/Polyp Detection/dataset/101.xml']"
            ]
          },
          "metadata": {},
          "execution_count": 13
        }
      ]
    },
    {
      "cell_type": "code",
      "source": [
        "tree = et.parse(xml_lst[1])\n",
        "root = tree.getroot()"
      ],
      "metadata": {
        "id": "HrtwlZSZhAoR"
      },
      "execution_count": 16,
      "outputs": []
    },
    {
      "cell_type": "code",
      "source": [
        "for child in root:\n",
        "  print(child.tag, child.attrib)"
      ],
      "metadata": {
        "colab": {
          "base_uri": "https://localhost:8080/"
        },
        "id": "0P6Cn2ZXhU1_",
        "outputId": "ea4d9497-d2f0-4d1f-81a6-38fcd213df1f"
      },
      "execution_count": 17,
      "outputs": [
        {
          "output_type": "stream",
          "name": "stdout",
          "text": [
            "folder {}\n",
            "filename {}\n",
            "path {}\n",
            "source {}\n",
            "size {}\n",
            "object {}\n",
            "object {}\n"
          ]
        }
      ]
    },
    {
      "cell_type": "code",
      "source": [
        "for object_xml in root.findall('object'):\n",
        "  name = object_xml.find('name').text\n",
        "  xmin = object_xml.find('bndbox/xmin').text\n",
        "  ymin = object_xml.find('bndbox/ymin').text\n",
        "  xmax = object_xml.find('bndbox/xmax').text\n",
        "  ymax = object_xml.find('bndbox/ymax').text\n",
        "  print(name, xmin, xmax, ymin, ymax)"
      ],
      "metadata": {
        "colab": {
          "base_uri": "https://localhost:8080/"
        },
        "id": "DlT9J-YYhYWJ",
        "outputId": "6570b12a-7f89-437a-f7a0-940a7f8be4c4"
      },
      "execution_count": 18,
      "outputs": [
        {
          "output_type": "stream",
          "name": "stdout",
          "text": [
            "polyp 270 362 247 391\n",
            "polyp 45 359 209 446\n"
          ]
        }
      ]
    },
    {
      "cell_type": "code",
      "source": [
        "filename = root.find('filename').text\n",
        "filename"
      ],
      "metadata": {
        "colab": {
          "base_uri": "https://localhost:8080/",
          "height": 35
        },
        "id": "d9HkJ67Xg8o_",
        "outputId": "73c1e200-d9ea-4082-c41c-1e2b40c35c1d"
      },
      "execution_count": 19,
      "outputs": [
        {
          "output_type": "execute_result",
          "data": {
            "text/plain": [
              "'10.jpg'"
            ],
            "application/vnd.google.colaboratory.intrinsic+json": {
              "type": "string"
            }
          },
          "metadata": {},
          "execution_count": 19
        }
      ]
    },
    {
      "cell_type": "code",
      "source": [
        "width = root.find('size/width').text\n",
        "height = root.find('size/height').text\n",
        "\n",
        "print(width, height)"
      ],
      "metadata": {
        "colab": {
          "base_uri": "https://localhost:8080/"
        },
        "id": "C96cjQ-3hicz",
        "outputId": "13602aa0-9fa2-418a-cff8-5248fba9b4b8"
      },
      "execution_count": 20,
      "outputs": [
        {
          "output_type": "stream",
          "name": "stdout",
          "text": [
            "611 530\n"
          ]
        }
      ]
    },
    {
      "cell_type": "markdown",
      "source": [
        "### Making final helper function for parsing XML files & making their list and converting into dataframe for furthur use."
      ],
      "metadata": {
        "id": "mi4iZSNThmpP"
      }
    },
    {
      "cell_type": "code",
      "source": [
        "def xml_parser(filename):\n",
        "    tree = et.parse(filename)\n",
        "    root = tree.getroot()\n",
        "    filename = root.find('filename').text\n",
        "    width = root.find('size/width').text\n",
        "    height = root.find('size/height').text\n",
        "    parser = []\n",
        "\n",
        "    for object_xml in root.findall('object'):\n",
        "      name = object_xml.find('name').text\n",
        "      xmin = object_xml.find('bndbox/xmin').text\n",
        "      ymin = object_xml.find('bndbox/ymin').text\n",
        "      xmax = object_xml.find('bndbox/xmax').text\n",
        "      ymax = object_xml.find('bndbox/ymax').text\n",
        "      parser.append([filename, width, height, name, xmin, xmax, ymin, ymax])\n",
        "\n",
        "    return parser"
      ],
      "metadata": {
        "id": "daI6I34Aho5_"
      },
      "execution_count": 21,
      "outputs": []
    },
    {
      "cell_type": "code",
      "source": [
        "xml_parser(xml_lst[1])"
      ],
      "metadata": {
        "colab": {
          "base_uri": "https://localhost:8080/"
        },
        "id": "yZ-j2KVAhuHg",
        "outputId": "4d4a6198-5242-4a5f-a6d4-c7b2a49b78ed"
      },
      "execution_count": 22,
      "outputs": [
        {
          "output_type": "execute_result",
          "data": {
            "text/plain": [
              "[['10.jpg', '611', '530', 'polyp', '270', '362', '247', '391'],\n",
              " ['10.jpg', '611', '530', 'polyp', '45', '359', '209', '446']]"
            ]
          },
          "metadata": {},
          "execution_count": 22
        }
      ]
    },
    {
      "cell_type": "code",
      "source": [
        "xml_parser(xml_lst[100])"
      ],
      "metadata": {
        "colab": {
          "base_uri": "https://localhost:8080/"
        },
        "id": "f4RlU2adhv14",
        "outputId": "214adadc-f38a-46f5-8872-e7fbb6d58ecc"
      },
      "execution_count": 23,
      "outputs": [
        {
          "output_type": "execute_result",
          "data": {
            "text/plain": [
              "[['189.jpg', '543', '528', 'polyp', '215', '315', '224', '328']]"
            ]
          },
          "metadata": {},
          "execution_count": 23
        }
      ]
    },
    {
      "cell_type": "code",
      "source": [
        "parsed_all_xml_files = list(map(xml_parser, xml_lst))"
      ],
      "metadata": {
        "id": "FqxwAwdLhyd_"
      },
      "execution_count": 31,
      "outputs": []
    },
    {
      "cell_type": "code",
      "source": [
        "data = reduce(lambda x,y : x+y, parsed_all_xml_files)\n",
        "df = pd.DataFrame(data, columns=['filename', 'width', 'height', 'name', 'xmin', 'xmax', 'ymin', 'ymax'])"
      ],
      "metadata": {
        "id": "C1OsH1eQh5R8"
      },
      "execution_count": 32,
      "outputs": []
    },
    {
      "cell_type": "code",
      "source": [
        "df.head()"
      ],
      "metadata": {
        "colab": {
          "base_uri": "https://localhost:8080/",
          "height": 206
        },
        "id": "6tWBTbCJh-xE",
        "outputId": "3b5ea121-c97a-496f-d4cb-8efc3bbb720c"
      },
      "execution_count": 33,
      "outputs": [
        {
          "output_type": "execute_result",
          "data": {
            "text/plain": [
              "  filename width height   name xmin xmax ymin ymax\n",
              "0    1.jpg   619    529  polyp  243  427   19  142\n",
              "1    1.jpg   619    529  polyp  187  256  224  347\n",
              "2    1.jpg   619    529  polyp  345  412  159  267\n",
              "3    1.jpg   619    529  polyp  229  321  303  416\n",
              "4    1.jpg   619    529  polyp  340  382  407  459"
            ],
            "text/html": [
              "\n",
              "  <div id=\"df-eecdbe56-1705-4dee-88c3-2ec903df9d00\">\n",
              "    <div class=\"colab-df-container\">\n",
              "      <div>\n",
              "<style scoped>\n",
              "    .dataframe tbody tr th:only-of-type {\n",
              "        vertical-align: middle;\n",
              "    }\n",
              "\n",
              "    .dataframe tbody tr th {\n",
              "        vertical-align: top;\n",
              "    }\n",
              "\n",
              "    .dataframe thead th {\n",
              "        text-align: right;\n",
              "    }\n",
              "</style>\n",
              "<table border=\"1\" class=\"dataframe\">\n",
              "  <thead>\n",
              "    <tr style=\"text-align: right;\">\n",
              "      <th></th>\n",
              "      <th>filename</th>\n",
              "      <th>width</th>\n",
              "      <th>height</th>\n",
              "      <th>name</th>\n",
              "      <th>xmin</th>\n",
              "      <th>xmax</th>\n",
              "      <th>ymin</th>\n",
              "      <th>ymax</th>\n",
              "    </tr>\n",
              "  </thead>\n",
              "  <tbody>\n",
              "    <tr>\n",
              "      <th>0</th>\n",
              "      <td>1.jpg</td>\n",
              "      <td>619</td>\n",
              "      <td>529</td>\n",
              "      <td>polyp</td>\n",
              "      <td>243</td>\n",
              "      <td>427</td>\n",
              "      <td>19</td>\n",
              "      <td>142</td>\n",
              "    </tr>\n",
              "    <tr>\n",
              "      <th>1</th>\n",
              "      <td>1.jpg</td>\n",
              "      <td>619</td>\n",
              "      <td>529</td>\n",
              "      <td>polyp</td>\n",
              "      <td>187</td>\n",
              "      <td>256</td>\n",
              "      <td>224</td>\n",
              "      <td>347</td>\n",
              "    </tr>\n",
              "    <tr>\n",
              "      <th>2</th>\n",
              "      <td>1.jpg</td>\n",
              "      <td>619</td>\n",
              "      <td>529</td>\n",
              "      <td>polyp</td>\n",
              "      <td>345</td>\n",
              "      <td>412</td>\n",
              "      <td>159</td>\n",
              "      <td>267</td>\n",
              "    </tr>\n",
              "    <tr>\n",
              "      <th>3</th>\n",
              "      <td>1.jpg</td>\n",
              "      <td>619</td>\n",
              "      <td>529</td>\n",
              "      <td>polyp</td>\n",
              "      <td>229</td>\n",
              "      <td>321</td>\n",
              "      <td>303</td>\n",
              "      <td>416</td>\n",
              "    </tr>\n",
              "    <tr>\n",
              "      <th>4</th>\n",
              "      <td>1.jpg</td>\n",
              "      <td>619</td>\n",
              "      <td>529</td>\n",
              "      <td>polyp</td>\n",
              "      <td>340</td>\n",
              "      <td>382</td>\n",
              "      <td>407</td>\n",
              "      <td>459</td>\n",
              "    </tr>\n",
              "  </tbody>\n",
              "</table>\n",
              "</div>\n",
              "      <button class=\"colab-df-convert\" onclick=\"convertToInteractive('df-eecdbe56-1705-4dee-88c3-2ec903df9d00')\"\n",
              "              title=\"Convert this dataframe to an interactive table.\"\n",
              "              style=\"display:none;\">\n",
              "        \n",
              "  <svg xmlns=\"http://www.w3.org/2000/svg\" height=\"24px\"viewBox=\"0 0 24 24\"\n",
              "       width=\"24px\">\n",
              "    <path d=\"M0 0h24v24H0V0z\" fill=\"none\"/>\n",
              "    <path d=\"M18.56 5.44l.94 2.06.94-2.06 2.06-.94-2.06-.94-.94-2.06-.94 2.06-2.06.94zm-11 1L8.5 8.5l.94-2.06 2.06-.94-2.06-.94L8.5 2.5l-.94 2.06-2.06.94zm10 10l.94 2.06.94-2.06 2.06-.94-2.06-.94-.94-2.06-.94 2.06-2.06.94z\"/><path d=\"M17.41 7.96l-1.37-1.37c-.4-.4-.92-.59-1.43-.59-.52 0-1.04.2-1.43.59L10.3 9.45l-7.72 7.72c-.78.78-.78 2.05 0 2.83L4 21.41c.39.39.9.59 1.41.59.51 0 1.02-.2 1.41-.59l7.78-7.78 2.81-2.81c.8-.78.8-2.07 0-2.86zM5.41 20L4 18.59l7.72-7.72 1.47 1.35L5.41 20z\"/>\n",
              "  </svg>\n",
              "      </button>\n",
              "      \n",
              "  <style>\n",
              "    .colab-df-container {\n",
              "      display:flex;\n",
              "      flex-wrap:wrap;\n",
              "      gap: 12px;\n",
              "    }\n",
              "\n",
              "    .colab-df-convert {\n",
              "      background-color: #E8F0FE;\n",
              "      border: none;\n",
              "      border-radius: 50%;\n",
              "      cursor: pointer;\n",
              "      display: none;\n",
              "      fill: #1967D2;\n",
              "      height: 32px;\n",
              "      padding: 0 0 0 0;\n",
              "      width: 32px;\n",
              "    }\n",
              "\n",
              "    .colab-df-convert:hover {\n",
              "      background-color: #E2EBFA;\n",
              "      box-shadow: 0px 1px 2px rgba(60, 64, 67, 0.3), 0px 1px 3px 1px rgba(60, 64, 67, 0.15);\n",
              "      fill: #174EA6;\n",
              "    }\n",
              "\n",
              "    [theme=dark] .colab-df-convert {\n",
              "      background-color: #3B4455;\n",
              "      fill: #D2E3FC;\n",
              "    }\n",
              "\n",
              "    [theme=dark] .colab-df-convert:hover {\n",
              "      background-color: #434B5C;\n",
              "      box-shadow: 0px 1px 3px 1px rgba(0, 0, 0, 0.15);\n",
              "      filter: drop-shadow(0px 1px 2px rgba(0, 0, 0, 0.3));\n",
              "      fill: #FFFFFF;\n",
              "    }\n",
              "  </style>\n",
              "\n",
              "      <script>\n",
              "        const buttonEl =\n",
              "          document.querySelector('#df-eecdbe56-1705-4dee-88c3-2ec903df9d00 button.colab-df-convert');\n",
              "        buttonEl.style.display =\n",
              "          google.colab.kernel.accessAllowed ? 'block' : 'none';\n",
              "\n",
              "        async function convertToInteractive(key) {\n",
              "          const element = document.querySelector('#df-eecdbe56-1705-4dee-88c3-2ec903df9d00');\n",
              "          const dataTable =\n",
              "            await google.colab.kernel.invokeFunction('convertToInteractive',\n",
              "                                                     [key], {});\n",
              "          if (!dataTable) return;\n",
              "\n",
              "          const docLinkHtml = 'Like what you see? Visit the ' +\n",
              "            '<a target=\"_blank\" href=https://colab.research.google.com/notebooks/data_table.ipynb>data table notebook</a>'\n",
              "            + ' to learn more about interactive tables.';\n",
              "          element.innerHTML = '';\n",
              "          dataTable['output_type'] = 'display_data';\n",
              "          await google.colab.output.renderOutput(dataTable, element);\n",
              "          const docLink = document.createElement('div');\n",
              "          docLink.innerHTML = docLinkHtml;\n",
              "          element.appendChild(docLink);\n",
              "        }\n",
              "      </script>\n",
              "    </div>\n",
              "  </div>\n",
              "  "
            ]
          },
          "metadata": {},
          "execution_count": 33
        }
      ]
    },
    {
      "cell_type": "code",
      "source": [
        "df.shape"
      ],
      "metadata": {
        "colab": {
          "base_uri": "https://localhost:8080/"
        },
        "id": "YmoslsbBiAIw",
        "outputId": "521252b5-b66e-4344-d9d9-50ff35383b9f"
      },
      "execution_count": 34,
      "outputs": [
        {
          "output_type": "execute_result",
          "data": {
            "text/plain": [
              "(1460, 8)"
            ]
          },
          "metadata": {},
          "execution_count": 34
        }
      ]
    },
    {
      "cell_type": "code",
      "source": [
        "df['name'].value_counts()"
      ],
      "metadata": {
        "colab": {
          "base_uri": "https://localhost:8080/"
        },
        "id": "eEnDLtaAiKAZ",
        "outputId": "2401a6f9-a0a7-4b1e-a077-e555543c65e1"
      },
      "execution_count": 36,
      "outputs": [
        {
          "output_type": "execute_result",
          "data": {
            "text/plain": [
              "polyp    1460\n",
              "Name: name, dtype: int64"
            ]
          },
          "metadata": {},
          "execution_count": 36
        }
      ]
    },
    {
      "cell_type": "code",
      "source": [
        "df.info()"
      ],
      "metadata": {
        "colab": {
          "base_uri": "https://localhost:8080/"
        },
        "id": "ZbYGWaTnidk3",
        "outputId": "df6a49c1-a25a-40cd-829e-fd487d13a5d8"
      },
      "execution_count": 37,
      "outputs": [
        {
          "output_type": "stream",
          "name": "stdout",
          "text": [
            "<class 'pandas.core.frame.DataFrame'>\n",
            "RangeIndex: 1460 entries, 0 to 1459\n",
            "Data columns (total 8 columns):\n",
            " #   Column    Non-Null Count  Dtype \n",
            "---  ------    --------------  ----- \n",
            " 0   filename  1460 non-null   object\n",
            " 1   width     1460 non-null   object\n",
            " 2   height    1460 non-null   object\n",
            " 3   name      1460 non-null   object\n",
            " 4   xmin      1460 non-null   object\n",
            " 5   xmax      1460 non-null   object\n",
            " 6   ymin      1460 non-null   object\n",
            " 7   ymax      1460 non-null   object\n",
            "dtypes: object(8)\n",
            "memory usage: 91.4+ KB\n"
          ]
        }
      ]
    },
    {
      "cell_type": "code",
      "source": [
        "df_updated = df.copy()\n",
        "df_updated['width'] = df_updated['width'].astype(\"int64\")\n",
        "df_updated['height'] = df_updated['height'].astype(\"int64\")\n",
        "df_updated['xmin'] = df_updated['xmin'].astype(\"int64\")\n",
        "df_updated['xmax'] = df_updated['xmax'].astype(\"int64\")\n",
        "df_updated['ymin'] = df_updated['ymin'].astype(\"int64\")\n",
        "df_updated['ymax'] = df_updated['ymax'].astype(\"int64\")\n",
        "df_updated.info()"
      ],
      "metadata": {
        "colab": {
          "base_uri": "https://localhost:8080/"
        },
        "id": "tJrkPuvQiMyW",
        "outputId": "f4360723-2df6-48f3-86ac-82b881773b6f"
      },
      "execution_count": 38,
      "outputs": [
        {
          "output_type": "stream",
          "name": "stdout",
          "text": [
            "<class 'pandas.core.frame.DataFrame'>\n",
            "RangeIndex: 1460 entries, 0 to 1459\n",
            "Data columns (total 8 columns):\n",
            " #   Column    Non-Null Count  Dtype \n",
            "---  ------    --------------  ----- \n",
            " 0   filename  1460 non-null   object\n",
            " 1   width     1460 non-null   int64 \n",
            " 2   height    1460 non-null   int64 \n",
            " 3   name      1460 non-null   object\n",
            " 4   xmin      1460 non-null   int64 \n",
            " 5   xmax      1460 non-null   int64 \n",
            " 6   ymin      1460 non-null   int64 \n",
            " 7   ymax      1460 non-null   int64 \n",
            "dtypes: int64(6), object(2)\n",
            "memory usage: 91.4+ KB\n"
          ]
        }
      ]
    },
    {
      "cell_type": "code",
      "source": [
        "df_updated['center_x'] = np.round((df_updated['xmin'] + df_updated['xmax'] / 2) / df_updated['width'], 3)\n",
        "df_updated['center_y'] = np.round((df_updated['ymin'] + df_updated['ymax'] / 2) / df_updated['height'], 3)\n",
        "df_updated['width_norm'] = np.round((df_updated['xmax'] - df_updated['xmin']) / df_updated['width'], 3)\n",
        "df_updated['height_norm'] = np.round((df_updated['ymax'] - df_updated['ymin']) / df_updated['height'], 3)"
      ],
      "metadata": {
        "id": "hJEF8UTUiVF1"
      },
      "execution_count": 39,
      "outputs": []
    },
    {
      "cell_type": "code",
      "source": [
        "#required labelling for YOLO -- Normalization of data as well\n",
        "df_updated.head(30)"
      ],
      "metadata": {
        "colab": {
          "base_uri": "https://localhost:8080/",
          "height": 990
        },
        "id": "73z_oshTij_n",
        "outputId": "2751eba2-ecbb-4f0f-d859-3a27481373b4"
      },
      "execution_count": 64,
      "outputs": [
        {
          "output_type": "execute_result",
          "data": {
            "text/plain": [
              "    filename  width  height   name  xmin  xmax  ymin  ymax  center_x  \\\n",
              "0      1.jpg    619     529  polyp   243   427    19   142     0.737   \n",
              "1      1.jpg    619     529  polyp   187   256   224   347     0.509   \n",
              "2      1.jpg    619     529  polyp   345   412   159   267     0.890   \n",
              "3      1.jpg    619     529  polyp   229   321   303   416     0.629   \n",
              "4      1.jpg    619     529  polyp   340   382   407   459     0.858   \n",
              "5     10.jpg    611     530  polyp   270   362   247   391     0.738   \n",
              "6     10.jpg    611     530  polyp    45   359   209   446     0.367   \n",
              "7    100.jpg    622     528  polyp   401   513   183   340     1.057   \n",
              "8    100.jpg    622     528  polyp   352   430   106   186     0.912   \n",
              "9   1000.jpg   1348    1070  polyp   217   914   369  1035     0.500   \n",
              "10   101.jpg    626     547  polyp   259   355   112   201     0.697   \n",
              "11   102.jpg    626     547  polyp   428   580    82   394     1.147   \n",
              "12   103.jpg    576     547  polyp   303   508    21   225     0.967   \n",
              "13   103.jpg    576     547  polyp   430   576   160   363     1.247   \n",
              "14   104.jpg    622     530  polyp   204   331   375   456     0.594   \n",
              "15   105.jpg    622     531  polyp   289   374   214   301     0.765   \n",
              "16   106.jpg    570     531  polyp   273   438   326   457     0.863   \n",
              "17   107.jpg    570     521  polyp   249   516   184   458     0.889   \n",
              "18   108.jpg    562     502  polyp   324   522   144   331     1.041   \n",
              "19   109.jpg    621     528  polyp   500   621   163   391     1.305   \n",
              "20    11.jpg    626     546  polyp   310   490    54   527     0.887   \n",
              "21   110.jpg    622     528  polyp   302   362   210   320     0.777   \n",
              "22   110.jpg    622     528  polyp   217   312   130   378     0.600   \n",
              "23   111.jpg    622     531  polyp   291   496   143   441     0.867   \n",
              "24   111.jpg    622     531  polyp   167   230    71   153     0.453   \n",
              "25   111.jpg    622     531  polyp    81   199   106   179     0.290   \n",
              "26   112.jpg    568     529  polyp   251   413   267   412     0.805   \n",
              "27   113.jpg    621     529  polyp   202   376   149   403     0.628   \n",
              "28   113.jpg    621     529  polyp   403   480   164   286     1.035   \n",
              "29   114.jpg    611     529  polyp   220   346   148   249     0.643   \n",
              "\n",
              "    center_y  width_norm  height_norm  \n",
              "0      0.170       0.297        0.233  \n",
              "1      0.751       0.111        0.233  \n",
              "2      0.553       0.108        0.204  \n",
              "3      0.966       0.149        0.214  \n",
              "4      1.203       0.068        0.098  \n",
              "5      0.835       0.151        0.272  \n",
              "6      0.815       0.514        0.447  \n",
              "7      0.669       0.180        0.297  \n",
              "8      0.377       0.125        0.152  \n",
              "9      0.829       0.517        0.622  \n",
              "10     0.388       0.153        0.163  \n",
              "11     0.510       0.243        0.570  \n",
              "12     0.244       0.356        0.373  \n",
              "13     0.624       0.253        0.371  \n",
              "14     1.138       0.204        0.153  \n",
              "15     0.686       0.137        0.164  \n",
              "16     1.044       0.289        0.247  \n",
              "17     0.793       0.468        0.526  \n",
              "18     0.617       0.352        0.373  \n",
              "19     0.679       0.195        0.432  \n",
              "20     0.582       0.288        0.866  \n",
              "21     0.701       0.096        0.208  \n",
              "22     0.604       0.153        0.470  \n",
              "23     0.685       0.330        0.561  \n",
              "24     0.278       0.101        0.154  \n",
              "25     0.368       0.190        0.137  \n",
              "26     0.894       0.285        0.274  \n",
              "27     0.663       0.280        0.480  \n",
              "28     0.580       0.124        0.231  \n",
              "29     0.515       0.206        0.191  "
            ],
            "text/html": [
              "\n",
              "  <div id=\"df-6d25d933-c48a-44a6-853d-291c413b3a1e\">\n",
              "    <div class=\"colab-df-container\">\n",
              "      <div>\n",
              "<style scoped>\n",
              "    .dataframe tbody tr th:only-of-type {\n",
              "        vertical-align: middle;\n",
              "    }\n",
              "\n",
              "    .dataframe tbody tr th {\n",
              "        vertical-align: top;\n",
              "    }\n",
              "\n",
              "    .dataframe thead th {\n",
              "        text-align: right;\n",
              "    }\n",
              "</style>\n",
              "<table border=\"1\" class=\"dataframe\">\n",
              "  <thead>\n",
              "    <tr style=\"text-align: right;\">\n",
              "      <th></th>\n",
              "      <th>filename</th>\n",
              "      <th>width</th>\n",
              "      <th>height</th>\n",
              "      <th>name</th>\n",
              "      <th>xmin</th>\n",
              "      <th>xmax</th>\n",
              "      <th>ymin</th>\n",
              "      <th>ymax</th>\n",
              "      <th>center_x</th>\n",
              "      <th>center_y</th>\n",
              "      <th>width_norm</th>\n",
              "      <th>height_norm</th>\n",
              "    </tr>\n",
              "  </thead>\n",
              "  <tbody>\n",
              "    <tr>\n",
              "      <th>0</th>\n",
              "      <td>1.jpg</td>\n",
              "      <td>619</td>\n",
              "      <td>529</td>\n",
              "      <td>polyp</td>\n",
              "      <td>243</td>\n",
              "      <td>427</td>\n",
              "      <td>19</td>\n",
              "      <td>142</td>\n",
              "      <td>0.737</td>\n",
              "      <td>0.170</td>\n",
              "      <td>0.297</td>\n",
              "      <td>0.233</td>\n",
              "    </tr>\n",
              "    <tr>\n",
              "      <th>1</th>\n",
              "      <td>1.jpg</td>\n",
              "      <td>619</td>\n",
              "      <td>529</td>\n",
              "      <td>polyp</td>\n",
              "      <td>187</td>\n",
              "      <td>256</td>\n",
              "      <td>224</td>\n",
              "      <td>347</td>\n",
              "      <td>0.509</td>\n",
              "      <td>0.751</td>\n",
              "      <td>0.111</td>\n",
              "      <td>0.233</td>\n",
              "    </tr>\n",
              "    <tr>\n",
              "      <th>2</th>\n",
              "      <td>1.jpg</td>\n",
              "      <td>619</td>\n",
              "      <td>529</td>\n",
              "      <td>polyp</td>\n",
              "      <td>345</td>\n",
              "      <td>412</td>\n",
              "      <td>159</td>\n",
              "      <td>267</td>\n",
              "      <td>0.890</td>\n",
              "      <td>0.553</td>\n",
              "      <td>0.108</td>\n",
              "      <td>0.204</td>\n",
              "    </tr>\n",
              "    <tr>\n",
              "      <th>3</th>\n",
              "      <td>1.jpg</td>\n",
              "      <td>619</td>\n",
              "      <td>529</td>\n",
              "      <td>polyp</td>\n",
              "      <td>229</td>\n",
              "      <td>321</td>\n",
              "      <td>303</td>\n",
              "      <td>416</td>\n",
              "      <td>0.629</td>\n",
              "      <td>0.966</td>\n",
              "      <td>0.149</td>\n",
              "      <td>0.214</td>\n",
              "    </tr>\n",
              "    <tr>\n",
              "      <th>4</th>\n",
              "      <td>1.jpg</td>\n",
              "      <td>619</td>\n",
              "      <td>529</td>\n",
              "      <td>polyp</td>\n",
              "      <td>340</td>\n",
              "      <td>382</td>\n",
              "      <td>407</td>\n",
              "      <td>459</td>\n",
              "      <td>0.858</td>\n",
              "      <td>1.203</td>\n",
              "      <td>0.068</td>\n",
              "      <td>0.098</td>\n",
              "    </tr>\n",
              "    <tr>\n",
              "      <th>5</th>\n",
              "      <td>10.jpg</td>\n",
              "      <td>611</td>\n",
              "      <td>530</td>\n",
              "      <td>polyp</td>\n",
              "      <td>270</td>\n",
              "      <td>362</td>\n",
              "      <td>247</td>\n",
              "      <td>391</td>\n",
              "      <td>0.738</td>\n",
              "      <td>0.835</td>\n",
              "      <td>0.151</td>\n",
              "      <td>0.272</td>\n",
              "    </tr>\n",
              "    <tr>\n",
              "      <th>6</th>\n",
              "      <td>10.jpg</td>\n",
              "      <td>611</td>\n",
              "      <td>530</td>\n",
              "      <td>polyp</td>\n",
              "      <td>45</td>\n",
              "      <td>359</td>\n",
              "      <td>209</td>\n",
              "      <td>446</td>\n",
              "      <td>0.367</td>\n",
              "      <td>0.815</td>\n",
              "      <td>0.514</td>\n",
              "      <td>0.447</td>\n",
              "    </tr>\n",
              "    <tr>\n",
              "      <th>7</th>\n",
              "      <td>100.jpg</td>\n",
              "      <td>622</td>\n",
              "      <td>528</td>\n",
              "      <td>polyp</td>\n",
              "      <td>401</td>\n",
              "      <td>513</td>\n",
              "      <td>183</td>\n",
              "      <td>340</td>\n",
              "      <td>1.057</td>\n",
              "      <td>0.669</td>\n",
              "      <td>0.180</td>\n",
              "      <td>0.297</td>\n",
              "    </tr>\n",
              "    <tr>\n",
              "      <th>8</th>\n",
              "      <td>100.jpg</td>\n",
              "      <td>622</td>\n",
              "      <td>528</td>\n",
              "      <td>polyp</td>\n",
              "      <td>352</td>\n",
              "      <td>430</td>\n",
              "      <td>106</td>\n",
              "      <td>186</td>\n",
              "      <td>0.912</td>\n",
              "      <td>0.377</td>\n",
              "      <td>0.125</td>\n",
              "      <td>0.152</td>\n",
              "    </tr>\n",
              "    <tr>\n",
              "      <th>9</th>\n",
              "      <td>1000.jpg</td>\n",
              "      <td>1348</td>\n",
              "      <td>1070</td>\n",
              "      <td>polyp</td>\n",
              "      <td>217</td>\n",
              "      <td>914</td>\n",
              "      <td>369</td>\n",
              "      <td>1035</td>\n",
              "      <td>0.500</td>\n",
              "      <td>0.829</td>\n",
              "      <td>0.517</td>\n",
              "      <td>0.622</td>\n",
              "    </tr>\n",
              "    <tr>\n",
              "      <th>10</th>\n",
              "      <td>101.jpg</td>\n",
              "      <td>626</td>\n",
              "      <td>547</td>\n",
              "      <td>polyp</td>\n",
              "      <td>259</td>\n",
              "      <td>355</td>\n",
              "      <td>112</td>\n",
              "      <td>201</td>\n",
              "      <td>0.697</td>\n",
              "      <td>0.388</td>\n",
              "      <td>0.153</td>\n",
              "      <td>0.163</td>\n",
              "    </tr>\n",
              "    <tr>\n",
              "      <th>11</th>\n",
              "      <td>102.jpg</td>\n",
              "      <td>626</td>\n",
              "      <td>547</td>\n",
              "      <td>polyp</td>\n",
              "      <td>428</td>\n",
              "      <td>580</td>\n",
              "      <td>82</td>\n",
              "      <td>394</td>\n",
              "      <td>1.147</td>\n",
              "      <td>0.510</td>\n",
              "      <td>0.243</td>\n",
              "      <td>0.570</td>\n",
              "    </tr>\n",
              "    <tr>\n",
              "      <th>12</th>\n",
              "      <td>103.jpg</td>\n",
              "      <td>576</td>\n",
              "      <td>547</td>\n",
              "      <td>polyp</td>\n",
              "      <td>303</td>\n",
              "      <td>508</td>\n",
              "      <td>21</td>\n",
              "      <td>225</td>\n",
              "      <td>0.967</td>\n",
              "      <td>0.244</td>\n",
              "      <td>0.356</td>\n",
              "      <td>0.373</td>\n",
              "    </tr>\n",
              "    <tr>\n",
              "      <th>13</th>\n",
              "      <td>103.jpg</td>\n",
              "      <td>576</td>\n",
              "      <td>547</td>\n",
              "      <td>polyp</td>\n",
              "      <td>430</td>\n",
              "      <td>576</td>\n",
              "      <td>160</td>\n",
              "      <td>363</td>\n",
              "      <td>1.247</td>\n",
              "      <td>0.624</td>\n",
              "      <td>0.253</td>\n",
              "      <td>0.371</td>\n",
              "    </tr>\n",
              "    <tr>\n",
              "      <th>14</th>\n",
              "      <td>104.jpg</td>\n",
              "      <td>622</td>\n",
              "      <td>530</td>\n",
              "      <td>polyp</td>\n",
              "      <td>204</td>\n",
              "      <td>331</td>\n",
              "      <td>375</td>\n",
              "      <td>456</td>\n",
              "      <td>0.594</td>\n",
              "      <td>1.138</td>\n",
              "      <td>0.204</td>\n",
              "      <td>0.153</td>\n",
              "    </tr>\n",
              "    <tr>\n",
              "      <th>15</th>\n",
              "      <td>105.jpg</td>\n",
              "      <td>622</td>\n",
              "      <td>531</td>\n",
              "      <td>polyp</td>\n",
              "      <td>289</td>\n",
              "      <td>374</td>\n",
              "      <td>214</td>\n",
              "      <td>301</td>\n",
              "      <td>0.765</td>\n",
              "      <td>0.686</td>\n",
              "      <td>0.137</td>\n",
              "      <td>0.164</td>\n",
              "    </tr>\n",
              "    <tr>\n",
              "      <th>16</th>\n",
              "      <td>106.jpg</td>\n",
              "      <td>570</td>\n",
              "      <td>531</td>\n",
              "      <td>polyp</td>\n",
              "      <td>273</td>\n",
              "      <td>438</td>\n",
              "      <td>326</td>\n",
              "      <td>457</td>\n",
              "      <td>0.863</td>\n",
              "      <td>1.044</td>\n",
              "      <td>0.289</td>\n",
              "      <td>0.247</td>\n",
              "    </tr>\n",
              "    <tr>\n",
              "      <th>17</th>\n",
              "      <td>107.jpg</td>\n",
              "      <td>570</td>\n",
              "      <td>521</td>\n",
              "      <td>polyp</td>\n",
              "      <td>249</td>\n",
              "      <td>516</td>\n",
              "      <td>184</td>\n",
              "      <td>458</td>\n",
              "      <td>0.889</td>\n",
              "      <td>0.793</td>\n",
              "      <td>0.468</td>\n",
              "      <td>0.526</td>\n",
              "    </tr>\n",
              "    <tr>\n",
              "      <th>18</th>\n",
              "      <td>108.jpg</td>\n",
              "      <td>562</td>\n",
              "      <td>502</td>\n",
              "      <td>polyp</td>\n",
              "      <td>324</td>\n",
              "      <td>522</td>\n",
              "      <td>144</td>\n",
              "      <td>331</td>\n",
              "      <td>1.041</td>\n",
              "      <td>0.617</td>\n",
              "      <td>0.352</td>\n",
              "      <td>0.373</td>\n",
              "    </tr>\n",
              "    <tr>\n",
              "      <th>19</th>\n",
              "      <td>109.jpg</td>\n",
              "      <td>621</td>\n",
              "      <td>528</td>\n",
              "      <td>polyp</td>\n",
              "      <td>500</td>\n",
              "      <td>621</td>\n",
              "      <td>163</td>\n",
              "      <td>391</td>\n",
              "      <td>1.305</td>\n",
              "      <td>0.679</td>\n",
              "      <td>0.195</td>\n",
              "      <td>0.432</td>\n",
              "    </tr>\n",
              "    <tr>\n",
              "      <th>20</th>\n",
              "      <td>11.jpg</td>\n",
              "      <td>626</td>\n",
              "      <td>546</td>\n",
              "      <td>polyp</td>\n",
              "      <td>310</td>\n",
              "      <td>490</td>\n",
              "      <td>54</td>\n",
              "      <td>527</td>\n",
              "      <td>0.887</td>\n",
              "      <td>0.582</td>\n",
              "      <td>0.288</td>\n",
              "      <td>0.866</td>\n",
              "    </tr>\n",
              "    <tr>\n",
              "      <th>21</th>\n",
              "      <td>110.jpg</td>\n",
              "      <td>622</td>\n",
              "      <td>528</td>\n",
              "      <td>polyp</td>\n",
              "      <td>302</td>\n",
              "      <td>362</td>\n",
              "      <td>210</td>\n",
              "      <td>320</td>\n",
              "      <td>0.777</td>\n",
              "      <td>0.701</td>\n",
              "      <td>0.096</td>\n",
              "      <td>0.208</td>\n",
              "    </tr>\n",
              "    <tr>\n",
              "      <th>22</th>\n",
              "      <td>110.jpg</td>\n",
              "      <td>622</td>\n",
              "      <td>528</td>\n",
              "      <td>polyp</td>\n",
              "      <td>217</td>\n",
              "      <td>312</td>\n",
              "      <td>130</td>\n",
              "      <td>378</td>\n",
              "      <td>0.600</td>\n",
              "      <td>0.604</td>\n",
              "      <td>0.153</td>\n",
              "      <td>0.470</td>\n",
              "    </tr>\n",
              "    <tr>\n",
              "      <th>23</th>\n",
              "      <td>111.jpg</td>\n",
              "      <td>622</td>\n",
              "      <td>531</td>\n",
              "      <td>polyp</td>\n",
              "      <td>291</td>\n",
              "      <td>496</td>\n",
              "      <td>143</td>\n",
              "      <td>441</td>\n",
              "      <td>0.867</td>\n",
              "      <td>0.685</td>\n",
              "      <td>0.330</td>\n",
              "      <td>0.561</td>\n",
              "    </tr>\n",
              "    <tr>\n",
              "      <th>24</th>\n",
              "      <td>111.jpg</td>\n",
              "      <td>622</td>\n",
              "      <td>531</td>\n",
              "      <td>polyp</td>\n",
              "      <td>167</td>\n",
              "      <td>230</td>\n",
              "      <td>71</td>\n",
              "      <td>153</td>\n",
              "      <td>0.453</td>\n",
              "      <td>0.278</td>\n",
              "      <td>0.101</td>\n",
              "      <td>0.154</td>\n",
              "    </tr>\n",
              "    <tr>\n",
              "      <th>25</th>\n",
              "      <td>111.jpg</td>\n",
              "      <td>622</td>\n",
              "      <td>531</td>\n",
              "      <td>polyp</td>\n",
              "      <td>81</td>\n",
              "      <td>199</td>\n",
              "      <td>106</td>\n",
              "      <td>179</td>\n",
              "      <td>0.290</td>\n",
              "      <td>0.368</td>\n",
              "      <td>0.190</td>\n",
              "      <td>0.137</td>\n",
              "    </tr>\n",
              "    <tr>\n",
              "      <th>26</th>\n",
              "      <td>112.jpg</td>\n",
              "      <td>568</td>\n",
              "      <td>529</td>\n",
              "      <td>polyp</td>\n",
              "      <td>251</td>\n",
              "      <td>413</td>\n",
              "      <td>267</td>\n",
              "      <td>412</td>\n",
              "      <td>0.805</td>\n",
              "      <td>0.894</td>\n",
              "      <td>0.285</td>\n",
              "      <td>0.274</td>\n",
              "    </tr>\n",
              "    <tr>\n",
              "      <th>27</th>\n",
              "      <td>113.jpg</td>\n",
              "      <td>621</td>\n",
              "      <td>529</td>\n",
              "      <td>polyp</td>\n",
              "      <td>202</td>\n",
              "      <td>376</td>\n",
              "      <td>149</td>\n",
              "      <td>403</td>\n",
              "      <td>0.628</td>\n",
              "      <td>0.663</td>\n",
              "      <td>0.280</td>\n",
              "      <td>0.480</td>\n",
              "    </tr>\n",
              "    <tr>\n",
              "      <th>28</th>\n",
              "      <td>113.jpg</td>\n",
              "      <td>621</td>\n",
              "      <td>529</td>\n",
              "      <td>polyp</td>\n",
              "      <td>403</td>\n",
              "      <td>480</td>\n",
              "      <td>164</td>\n",
              "      <td>286</td>\n",
              "      <td>1.035</td>\n",
              "      <td>0.580</td>\n",
              "      <td>0.124</td>\n",
              "      <td>0.231</td>\n",
              "    </tr>\n",
              "    <tr>\n",
              "      <th>29</th>\n",
              "      <td>114.jpg</td>\n",
              "      <td>611</td>\n",
              "      <td>529</td>\n",
              "      <td>polyp</td>\n",
              "      <td>220</td>\n",
              "      <td>346</td>\n",
              "      <td>148</td>\n",
              "      <td>249</td>\n",
              "      <td>0.643</td>\n",
              "      <td>0.515</td>\n",
              "      <td>0.206</td>\n",
              "      <td>0.191</td>\n",
              "    </tr>\n",
              "  </tbody>\n",
              "</table>\n",
              "</div>\n",
              "      <button class=\"colab-df-convert\" onclick=\"convertToInteractive('df-6d25d933-c48a-44a6-853d-291c413b3a1e')\"\n",
              "              title=\"Convert this dataframe to an interactive table.\"\n",
              "              style=\"display:none;\">\n",
              "        \n",
              "  <svg xmlns=\"http://www.w3.org/2000/svg\" height=\"24px\"viewBox=\"0 0 24 24\"\n",
              "       width=\"24px\">\n",
              "    <path d=\"M0 0h24v24H0V0z\" fill=\"none\"/>\n",
              "    <path d=\"M18.56 5.44l.94 2.06.94-2.06 2.06-.94-2.06-.94-.94-2.06-.94 2.06-2.06.94zm-11 1L8.5 8.5l.94-2.06 2.06-.94-2.06-.94L8.5 2.5l-.94 2.06-2.06.94zm10 10l.94 2.06.94-2.06 2.06-.94-2.06-.94-.94-2.06-.94 2.06-2.06.94z\"/><path d=\"M17.41 7.96l-1.37-1.37c-.4-.4-.92-.59-1.43-.59-.52 0-1.04.2-1.43.59L10.3 9.45l-7.72 7.72c-.78.78-.78 2.05 0 2.83L4 21.41c.39.39.9.59 1.41.59.51 0 1.02-.2 1.41-.59l7.78-7.78 2.81-2.81c.8-.78.8-2.07 0-2.86zM5.41 20L4 18.59l7.72-7.72 1.47 1.35L5.41 20z\"/>\n",
              "  </svg>\n",
              "      </button>\n",
              "      \n",
              "  <style>\n",
              "    .colab-df-container {\n",
              "      display:flex;\n",
              "      flex-wrap:wrap;\n",
              "      gap: 12px;\n",
              "    }\n",
              "\n",
              "    .colab-df-convert {\n",
              "      background-color: #E8F0FE;\n",
              "      border: none;\n",
              "      border-radius: 50%;\n",
              "      cursor: pointer;\n",
              "      display: none;\n",
              "      fill: #1967D2;\n",
              "      height: 32px;\n",
              "      padding: 0 0 0 0;\n",
              "      width: 32px;\n",
              "    }\n",
              "\n",
              "    .colab-df-convert:hover {\n",
              "      background-color: #E2EBFA;\n",
              "      box-shadow: 0px 1px 2px rgba(60, 64, 67, 0.3), 0px 1px 3px 1px rgba(60, 64, 67, 0.15);\n",
              "      fill: #174EA6;\n",
              "    }\n",
              "\n",
              "    [theme=dark] .colab-df-convert {\n",
              "      background-color: #3B4455;\n",
              "      fill: #D2E3FC;\n",
              "    }\n",
              "\n",
              "    [theme=dark] .colab-df-convert:hover {\n",
              "      background-color: #434B5C;\n",
              "      box-shadow: 0px 1px 3px 1px rgba(0, 0, 0, 0.15);\n",
              "      filter: drop-shadow(0px 1px 2px rgba(0, 0, 0, 0.3));\n",
              "      fill: #FFFFFF;\n",
              "    }\n",
              "  </style>\n",
              "\n",
              "      <script>\n",
              "        const buttonEl =\n",
              "          document.querySelector('#df-6d25d933-c48a-44a6-853d-291c413b3a1e button.colab-df-convert');\n",
              "        buttonEl.style.display =\n",
              "          google.colab.kernel.accessAllowed ? 'block' : 'none';\n",
              "\n",
              "        async function convertToInteractive(key) {\n",
              "          const element = document.querySelector('#df-6d25d933-c48a-44a6-853d-291c413b3a1e');\n",
              "          const dataTable =\n",
              "            await google.colab.kernel.invokeFunction('convertToInteractive',\n",
              "                                                     [key], {});\n",
              "          if (!dataTable) return;\n",
              "\n",
              "          const docLinkHtml = 'Like what you see? Visit the ' +\n",
              "            '<a target=\"_blank\" href=https://colab.research.google.com/notebooks/data_table.ipynb>data table notebook</a>'\n",
              "            + ' to learn more about interactive tables.';\n",
              "          element.innerHTML = '';\n",
              "          dataTable['output_type'] = 'display_data';\n",
              "          await google.colab.output.renderOutput(dataTable, element);\n",
              "          const docLink = document.createElement('div');\n",
              "          docLink.innerHTML = docLinkHtml;\n",
              "          element.appendChild(docLink);\n",
              "        }\n",
              "      </script>\n",
              "    </div>\n",
              "  </div>\n",
              "  "
            ]
          },
          "metadata": {},
          "execution_count": 64
        }
      ]
    },
    {
      "cell_type": "code",
      "source": [
        "images = df['filename'].unique()\n",
        "len(images)"
      ],
      "metadata": {
        "colab": {
          "base_uri": "https://localhost:8080/"
        },
        "id": "W4XwlvwnilmC",
        "outputId": "2a442029-231e-4186-983e-f5c583c54007"
      },
      "execution_count": 41,
      "outputs": [
        {
          "output_type": "execute_result",
          "data": {
            "text/plain": [
              "997"
            ]
          },
          "metadata": {},
          "execution_count": 41
        }
      ]
    },
    {
      "cell_type": "code",
      "source": [
        "# Splitting in to 80%:20% percent ratios with random shuffle\n",
        "img_df = pd.DataFrame(images, columns=['filename'])\n",
        "img_train = tuple(img_df.sample(frac=0.8)['filename'])\n",
        "img_test = tuple(img_df.query(f'filename not in {img_train}')['filename'])"
      ],
      "metadata": {
        "id": "g9REMuYIippO"
      },
      "execution_count": 42,
      "outputs": []
    },
    {
      "cell_type": "code",
      "source": [
        "train_df = df_updated.query(f\"filename in {img_train}\")\n",
        "test_df = df_updated.query(f\"filename in {img_test}\")"
      ],
      "metadata": {
        "id": "Ery1b7Dti3YV"
      },
      "execution_count": 43,
      "outputs": []
    },
    {
      "cell_type": "code",
      "source": [
        "len(train_df), len(test_df)"
      ],
      "metadata": {
        "colab": {
          "base_uri": "https://localhost:8080/"
        },
        "id": "sOPbdjxji5rU",
        "outputId": "4dff33d9-bbf9-4016-c1bc-d2fd2b7041bc"
      },
      "execution_count": 46,
      "outputs": [
        {
          "output_type": "execute_result",
          "data": {
            "text/plain": [
              "(1172, 288)"
            ]
          },
          "metadata": {},
          "execution_count": 46
        }
      ]
    },
    {
      "cell_type": "code",
      "source": [
        "train_df = train_df[train_df['name'] == 'polyp'].assign(id=1) \n",
        "train_df"
      ],
      "metadata": {
        "colab": {
          "base_uri": "https://localhost:8080/",
          "height": 424
        },
        "id": "V455fcw4jECB",
        "outputId": "147165e7-0472-4aa1-e005-c011d3877ac0"
      },
      "execution_count": 51,
      "outputs": [
        {
          "output_type": "execute_result",
          "data": {
            "text/plain": [
              "     filename  width  height   name  xmin  xmax  ymin  ymax  center_x  \\\n",
              "5      10.jpg    611     530  polyp   270   362   247   391     0.738   \n",
              "6      10.jpg    611     530  polyp    45   359   209   446     0.367   \n",
              "7     100.jpg    622     528  polyp   401   513   183   340     1.057   \n",
              "8     100.jpg    622     528  polyp   352   430   106   186     0.912   \n",
              "10    101.jpg    626     547  polyp   259   355   112   201     0.697   \n",
              "...       ...    ...     ...    ...   ...   ...   ...   ...       ...   \n",
              "1453  994.jpg    621     531  polyp   488   607   268   399     1.275   \n",
              "1454  995.jpg    720     576  polyp   321   401   295   363     0.724   \n",
              "1457  997.jpg    600     528  polyp   287   391   304   427     0.804   \n",
              "1458  998.jpg    720     576  polyp   347   483   208   328     0.817   \n",
              "1459  999.jpg    622     529  polyp    97   346    45   336     0.434   \n",
              "\n",
              "      center_y  width_norm  height_norm  id  \n",
              "5        0.835       0.151        0.272   1  \n",
              "6        0.815       0.514        0.447   1  \n",
              "7        0.669       0.180        0.297   1  \n",
              "8        0.377       0.125        0.152   1  \n",
              "10       0.388       0.153        0.163   1  \n",
              "...        ...         ...          ...  ..  \n",
              "1453     0.880       0.192        0.247   1  \n",
              "1454     0.827       0.111        0.118   1  \n",
              "1457     0.980       0.173        0.233   1  \n",
              "1458     0.646       0.189        0.208   1  \n",
              "1459     0.403       0.400        0.550   1  \n",
              "\n",
              "[1172 rows x 13 columns]"
            ],
            "text/html": [
              "\n",
              "  <div id=\"df-e40e3d3b-33ca-4651-bddc-f235a0d57b23\">\n",
              "    <div class=\"colab-df-container\">\n",
              "      <div>\n",
              "<style scoped>\n",
              "    .dataframe tbody tr th:only-of-type {\n",
              "        vertical-align: middle;\n",
              "    }\n",
              "\n",
              "    .dataframe tbody tr th {\n",
              "        vertical-align: top;\n",
              "    }\n",
              "\n",
              "    .dataframe thead th {\n",
              "        text-align: right;\n",
              "    }\n",
              "</style>\n",
              "<table border=\"1\" class=\"dataframe\">\n",
              "  <thead>\n",
              "    <tr style=\"text-align: right;\">\n",
              "      <th></th>\n",
              "      <th>filename</th>\n",
              "      <th>width</th>\n",
              "      <th>height</th>\n",
              "      <th>name</th>\n",
              "      <th>xmin</th>\n",
              "      <th>xmax</th>\n",
              "      <th>ymin</th>\n",
              "      <th>ymax</th>\n",
              "      <th>center_x</th>\n",
              "      <th>center_y</th>\n",
              "      <th>width_norm</th>\n",
              "      <th>height_norm</th>\n",
              "      <th>id</th>\n",
              "    </tr>\n",
              "  </thead>\n",
              "  <tbody>\n",
              "    <tr>\n",
              "      <th>5</th>\n",
              "      <td>10.jpg</td>\n",
              "      <td>611</td>\n",
              "      <td>530</td>\n",
              "      <td>polyp</td>\n",
              "      <td>270</td>\n",
              "      <td>362</td>\n",
              "      <td>247</td>\n",
              "      <td>391</td>\n",
              "      <td>0.738</td>\n",
              "      <td>0.835</td>\n",
              "      <td>0.151</td>\n",
              "      <td>0.272</td>\n",
              "      <td>1</td>\n",
              "    </tr>\n",
              "    <tr>\n",
              "      <th>6</th>\n",
              "      <td>10.jpg</td>\n",
              "      <td>611</td>\n",
              "      <td>530</td>\n",
              "      <td>polyp</td>\n",
              "      <td>45</td>\n",
              "      <td>359</td>\n",
              "      <td>209</td>\n",
              "      <td>446</td>\n",
              "      <td>0.367</td>\n",
              "      <td>0.815</td>\n",
              "      <td>0.514</td>\n",
              "      <td>0.447</td>\n",
              "      <td>1</td>\n",
              "    </tr>\n",
              "    <tr>\n",
              "      <th>7</th>\n",
              "      <td>100.jpg</td>\n",
              "      <td>622</td>\n",
              "      <td>528</td>\n",
              "      <td>polyp</td>\n",
              "      <td>401</td>\n",
              "      <td>513</td>\n",
              "      <td>183</td>\n",
              "      <td>340</td>\n",
              "      <td>1.057</td>\n",
              "      <td>0.669</td>\n",
              "      <td>0.180</td>\n",
              "      <td>0.297</td>\n",
              "      <td>1</td>\n",
              "    </tr>\n",
              "    <tr>\n",
              "      <th>8</th>\n",
              "      <td>100.jpg</td>\n",
              "      <td>622</td>\n",
              "      <td>528</td>\n",
              "      <td>polyp</td>\n",
              "      <td>352</td>\n",
              "      <td>430</td>\n",
              "      <td>106</td>\n",
              "      <td>186</td>\n",
              "      <td>0.912</td>\n",
              "      <td>0.377</td>\n",
              "      <td>0.125</td>\n",
              "      <td>0.152</td>\n",
              "      <td>1</td>\n",
              "    </tr>\n",
              "    <tr>\n",
              "      <th>10</th>\n",
              "      <td>101.jpg</td>\n",
              "      <td>626</td>\n",
              "      <td>547</td>\n",
              "      <td>polyp</td>\n",
              "      <td>259</td>\n",
              "      <td>355</td>\n",
              "      <td>112</td>\n",
              "      <td>201</td>\n",
              "      <td>0.697</td>\n",
              "      <td>0.388</td>\n",
              "      <td>0.153</td>\n",
              "      <td>0.163</td>\n",
              "      <td>1</td>\n",
              "    </tr>\n",
              "    <tr>\n",
              "      <th>...</th>\n",
              "      <td>...</td>\n",
              "      <td>...</td>\n",
              "      <td>...</td>\n",
              "      <td>...</td>\n",
              "      <td>...</td>\n",
              "      <td>...</td>\n",
              "      <td>...</td>\n",
              "      <td>...</td>\n",
              "      <td>...</td>\n",
              "      <td>...</td>\n",
              "      <td>...</td>\n",
              "      <td>...</td>\n",
              "      <td>...</td>\n",
              "    </tr>\n",
              "    <tr>\n",
              "      <th>1453</th>\n",
              "      <td>994.jpg</td>\n",
              "      <td>621</td>\n",
              "      <td>531</td>\n",
              "      <td>polyp</td>\n",
              "      <td>488</td>\n",
              "      <td>607</td>\n",
              "      <td>268</td>\n",
              "      <td>399</td>\n",
              "      <td>1.275</td>\n",
              "      <td>0.880</td>\n",
              "      <td>0.192</td>\n",
              "      <td>0.247</td>\n",
              "      <td>1</td>\n",
              "    </tr>\n",
              "    <tr>\n",
              "      <th>1454</th>\n",
              "      <td>995.jpg</td>\n",
              "      <td>720</td>\n",
              "      <td>576</td>\n",
              "      <td>polyp</td>\n",
              "      <td>321</td>\n",
              "      <td>401</td>\n",
              "      <td>295</td>\n",
              "      <td>363</td>\n",
              "      <td>0.724</td>\n",
              "      <td>0.827</td>\n",
              "      <td>0.111</td>\n",
              "      <td>0.118</td>\n",
              "      <td>1</td>\n",
              "    </tr>\n",
              "    <tr>\n",
              "      <th>1457</th>\n",
              "      <td>997.jpg</td>\n",
              "      <td>600</td>\n",
              "      <td>528</td>\n",
              "      <td>polyp</td>\n",
              "      <td>287</td>\n",
              "      <td>391</td>\n",
              "      <td>304</td>\n",
              "      <td>427</td>\n",
              "      <td>0.804</td>\n",
              "      <td>0.980</td>\n",
              "      <td>0.173</td>\n",
              "      <td>0.233</td>\n",
              "      <td>1</td>\n",
              "    </tr>\n",
              "    <tr>\n",
              "      <th>1458</th>\n",
              "      <td>998.jpg</td>\n",
              "      <td>720</td>\n",
              "      <td>576</td>\n",
              "      <td>polyp</td>\n",
              "      <td>347</td>\n",
              "      <td>483</td>\n",
              "      <td>208</td>\n",
              "      <td>328</td>\n",
              "      <td>0.817</td>\n",
              "      <td>0.646</td>\n",
              "      <td>0.189</td>\n",
              "      <td>0.208</td>\n",
              "      <td>1</td>\n",
              "    </tr>\n",
              "    <tr>\n",
              "      <th>1459</th>\n",
              "      <td>999.jpg</td>\n",
              "      <td>622</td>\n",
              "      <td>529</td>\n",
              "      <td>polyp</td>\n",
              "      <td>97</td>\n",
              "      <td>346</td>\n",
              "      <td>45</td>\n",
              "      <td>336</td>\n",
              "      <td>0.434</td>\n",
              "      <td>0.403</td>\n",
              "      <td>0.400</td>\n",
              "      <td>0.550</td>\n",
              "      <td>1</td>\n",
              "    </tr>\n",
              "  </tbody>\n",
              "</table>\n",
              "<p>1172 rows × 13 columns</p>\n",
              "</div>\n",
              "      <button class=\"colab-df-convert\" onclick=\"convertToInteractive('df-e40e3d3b-33ca-4651-bddc-f235a0d57b23')\"\n",
              "              title=\"Convert this dataframe to an interactive table.\"\n",
              "              style=\"display:none;\">\n",
              "        \n",
              "  <svg xmlns=\"http://www.w3.org/2000/svg\" height=\"24px\"viewBox=\"0 0 24 24\"\n",
              "       width=\"24px\">\n",
              "    <path d=\"M0 0h24v24H0V0z\" fill=\"none\"/>\n",
              "    <path d=\"M18.56 5.44l.94 2.06.94-2.06 2.06-.94-2.06-.94-.94-2.06-.94 2.06-2.06.94zm-11 1L8.5 8.5l.94-2.06 2.06-.94-2.06-.94L8.5 2.5l-.94 2.06-2.06.94zm10 10l.94 2.06.94-2.06 2.06-.94-2.06-.94-.94-2.06-.94 2.06-2.06.94z\"/><path d=\"M17.41 7.96l-1.37-1.37c-.4-.4-.92-.59-1.43-.59-.52 0-1.04.2-1.43.59L10.3 9.45l-7.72 7.72c-.78.78-.78 2.05 0 2.83L4 21.41c.39.39.9.59 1.41.59.51 0 1.02-.2 1.41-.59l7.78-7.78 2.81-2.81c.8-.78.8-2.07 0-2.86zM5.41 20L4 18.59l7.72-7.72 1.47 1.35L5.41 20z\"/>\n",
              "  </svg>\n",
              "      </button>\n",
              "      \n",
              "  <style>\n",
              "    .colab-df-container {\n",
              "      display:flex;\n",
              "      flex-wrap:wrap;\n",
              "      gap: 12px;\n",
              "    }\n",
              "\n",
              "    .colab-df-convert {\n",
              "      background-color: #E8F0FE;\n",
              "      border: none;\n",
              "      border-radius: 50%;\n",
              "      cursor: pointer;\n",
              "      display: none;\n",
              "      fill: #1967D2;\n",
              "      height: 32px;\n",
              "      padding: 0 0 0 0;\n",
              "      width: 32px;\n",
              "    }\n",
              "\n",
              "    .colab-df-convert:hover {\n",
              "      background-color: #E2EBFA;\n",
              "      box-shadow: 0px 1px 2px rgba(60, 64, 67, 0.3), 0px 1px 3px 1px rgba(60, 64, 67, 0.15);\n",
              "      fill: #174EA6;\n",
              "    }\n",
              "\n",
              "    [theme=dark] .colab-df-convert {\n",
              "      background-color: #3B4455;\n",
              "      fill: #D2E3FC;\n",
              "    }\n",
              "\n",
              "    [theme=dark] .colab-df-convert:hover {\n",
              "      background-color: #434B5C;\n",
              "      box-shadow: 0px 1px 3px 1px rgba(0, 0, 0, 0.15);\n",
              "      filter: drop-shadow(0px 1px 2px rgba(0, 0, 0, 0.3));\n",
              "      fill: #FFFFFF;\n",
              "    }\n",
              "  </style>\n",
              "\n",
              "      <script>\n",
              "        const buttonEl =\n",
              "          document.querySelector('#df-e40e3d3b-33ca-4651-bddc-f235a0d57b23 button.colab-df-convert');\n",
              "        buttonEl.style.display =\n",
              "          google.colab.kernel.accessAllowed ? 'block' : 'none';\n",
              "\n",
              "        async function convertToInteractive(key) {\n",
              "          const element = document.querySelector('#df-e40e3d3b-33ca-4651-bddc-f235a0d57b23');\n",
              "          const dataTable =\n",
              "            await google.colab.kernel.invokeFunction('convertToInteractive',\n",
              "                                                     [key], {});\n",
              "          if (!dataTable) return;\n",
              "\n",
              "          const docLinkHtml = 'Like what you see? Visit the ' +\n",
              "            '<a target=\"_blank\" href=https://colab.research.google.com/notebooks/data_table.ipynb>data table notebook</a>'\n",
              "            + ' to learn more about interactive tables.';\n",
              "          element.innerHTML = '';\n",
              "          dataTable['output_type'] = 'display_data';\n",
              "          await google.colab.output.renderOutput(dataTable, element);\n",
              "          const docLink = document.createElement('div');\n",
              "          docLink.innerHTML = docLinkHtml;\n",
              "          element.appendChild(docLink);\n",
              "        }\n",
              "      </script>\n",
              "    </div>\n",
              "  </div>\n",
              "  "
            ]
          },
          "metadata": {},
          "execution_count": 51
        }
      ]
    },
    {
      "cell_type": "code",
      "source": [
        "test_df = test_df[test_df['name'] == 'polyp'].assign(id=1)\n",
        "test_df"
      ],
      "metadata": {
        "colab": {
          "base_uri": "https://localhost:8080/",
          "height": 424
        },
        "id": "kDIsnXmKjxvH",
        "outputId": "cf2aab58-f53a-4b9b-8da2-0035726d56af"
      },
      "execution_count": 53,
      "outputs": [
        {
          "output_type": "execute_result",
          "data": {
            "text/plain": [
              "     filename  width  height   name  xmin  xmax  ymin  ymax  center_x  \\\n",
              "0       1.jpg    619     529  polyp   243   427    19   142     0.737   \n",
              "1       1.jpg    619     529  polyp   187   256   224   347     0.509   \n",
              "2       1.jpg    619     529  polyp   345   412   159   267     0.890   \n",
              "3       1.jpg    619     529  polyp   229   321   303   416     0.629   \n",
              "4       1.jpg    619     529  polyp   340   382   407   459     0.858   \n",
              "...       ...    ...     ...    ...   ...   ...   ...   ...       ...   \n",
              "1436  984.jpg    720     576  polyp   354   355   316   319     0.738   \n",
              "1445  988.jpg    720     576  polyp   327   546   147   486     0.833   \n",
              "1446  989.jpg    720     576  polyp   243   429   194   488     0.635   \n",
              "1455  996.jpg    585     530  polyp   294   423     4   199     0.864   \n",
              "1456  996.jpg    585     530  polyp   430   500   380   469     1.162   \n",
              "\n",
              "      center_y  width_norm  height_norm  id  \n",
              "0        0.170       0.297        0.233   1  \n",
              "1        0.751       0.111        0.233   1  \n",
              "2        0.553       0.108        0.204   1  \n",
              "3        0.966       0.149        0.214   1  \n",
              "4        1.203       0.068        0.098   1  \n",
              "...        ...         ...          ...  ..  \n",
              "1436     0.826       0.001        0.005   1  \n",
              "1445     0.677       0.304        0.589   1  \n",
              "1446     0.760       0.258        0.510   1  \n",
              "1455     0.195       0.221        0.368   1  \n",
              "1456     1.159       0.120        0.168   1  \n",
              "\n",
              "[288 rows x 13 columns]"
            ],
            "text/html": [
              "\n",
              "  <div id=\"df-f7398172-a708-4066-ba3d-b126d502713f\">\n",
              "    <div class=\"colab-df-container\">\n",
              "      <div>\n",
              "<style scoped>\n",
              "    .dataframe tbody tr th:only-of-type {\n",
              "        vertical-align: middle;\n",
              "    }\n",
              "\n",
              "    .dataframe tbody tr th {\n",
              "        vertical-align: top;\n",
              "    }\n",
              "\n",
              "    .dataframe thead th {\n",
              "        text-align: right;\n",
              "    }\n",
              "</style>\n",
              "<table border=\"1\" class=\"dataframe\">\n",
              "  <thead>\n",
              "    <tr style=\"text-align: right;\">\n",
              "      <th></th>\n",
              "      <th>filename</th>\n",
              "      <th>width</th>\n",
              "      <th>height</th>\n",
              "      <th>name</th>\n",
              "      <th>xmin</th>\n",
              "      <th>xmax</th>\n",
              "      <th>ymin</th>\n",
              "      <th>ymax</th>\n",
              "      <th>center_x</th>\n",
              "      <th>center_y</th>\n",
              "      <th>width_norm</th>\n",
              "      <th>height_norm</th>\n",
              "      <th>id</th>\n",
              "    </tr>\n",
              "  </thead>\n",
              "  <tbody>\n",
              "    <tr>\n",
              "      <th>0</th>\n",
              "      <td>1.jpg</td>\n",
              "      <td>619</td>\n",
              "      <td>529</td>\n",
              "      <td>polyp</td>\n",
              "      <td>243</td>\n",
              "      <td>427</td>\n",
              "      <td>19</td>\n",
              "      <td>142</td>\n",
              "      <td>0.737</td>\n",
              "      <td>0.170</td>\n",
              "      <td>0.297</td>\n",
              "      <td>0.233</td>\n",
              "      <td>1</td>\n",
              "    </tr>\n",
              "    <tr>\n",
              "      <th>1</th>\n",
              "      <td>1.jpg</td>\n",
              "      <td>619</td>\n",
              "      <td>529</td>\n",
              "      <td>polyp</td>\n",
              "      <td>187</td>\n",
              "      <td>256</td>\n",
              "      <td>224</td>\n",
              "      <td>347</td>\n",
              "      <td>0.509</td>\n",
              "      <td>0.751</td>\n",
              "      <td>0.111</td>\n",
              "      <td>0.233</td>\n",
              "      <td>1</td>\n",
              "    </tr>\n",
              "    <tr>\n",
              "      <th>2</th>\n",
              "      <td>1.jpg</td>\n",
              "      <td>619</td>\n",
              "      <td>529</td>\n",
              "      <td>polyp</td>\n",
              "      <td>345</td>\n",
              "      <td>412</td>\n",
              "      <td>159</td>\n",
              "      <td>267</td>\n",
              "      <td>0.890</td>\n",
              "      <td>0.553</td>\n",
              "      <td>0.108</td>\n",
              "      <td>0.204</td>\n",
              "      <td>1</td>\n",
              "    </tr>\n",
              "    <tr>\n",
              "      <th>3</th>\n",
              "      <td>1.jpg</td>\n",
              "      <td>619</td>\n",
              "      <td>529</td>\n",
              "      <td>polyp</td>\n",
              "      <td>229</td>\n",
              "      <td>321</td>\n",
              "      <td>303</td>\n",
              "      <td>416</td>\n",
              "      <td>0.629</td>\n",
              "      <td>0.966</td>\n",
              "      <td>0.149</td>\n",
              "      <td>0.214</td>\n",
              "      <td>1</td>\n",
              "    </tr>\n",
              "    <tr>\n",
              "      <th>4</th>\n",
              "      <td>1.jpg</td>\n",
              "      <td>619</td>\n",
              "      <td>529</td>\n",
              "      <td>polyp</td>\n",
              "      <td>340</td>\n",
              "      <td>382</td>\n",
              "      <td>407</td>\n",
              "      <td>459</td>\n",
              "      <td>0.858</td>\n",
              "      <td>1.203</td>\n",
              "      <td>0.068</td>\n",
              "      <td>0.098</td>\n",
              "      <td>1</td>\n",
              "    </tr>\n",
              "    <tr>\n",
              "      <th>...</th>\n",
              "      <td>...</td>\n",
              "      <td>...</td>\n",
              "      <td>...</td>\n",
              "      <td>...</td>\n",
              "      <td>...</td>\n",
              "      <td>...</td>\n",
              "      <td>...</td>\n",
              "      <td>...</td>\n",
              "      <td>...</td>\n",
              "      <td>...</td>\n",
              "      <td>...</td>\n",
              "      <td>...</td>\n",
              "      <td>...</td>\n",
              "    </tr>\n",
              "    <tr>\n",
              "      <th>1436</th>\n",
              "      <td>984.jpg</td>\n",
              "      <td>720</td>\n",
              "      <td>576</td>\n",
              "      <td>polyp</td>\n",
              "      <td>354</td>\n",
              "      <td>355</td>\n",
              "      <td>316</td>\n",
              "      <td>319</td>\n",
              "      <td>0.738</td>\n",
              "      <td>0.826</td>\n",
              "      <td>0.001</td>\n",
              "      <td>0.005</td>\n",
              "      <td>1</td>\n",
              "    </tr>\n",
              "    <tr>\n",
              "      <th>1445</th>\n",
              "      <td>988.jpg</td>\n",
              "      <td>720</td>\n",
              "      <td>576</td>\n",
              "      <td>polyp</td>\n",
              "      <td>327</td>\n",
              "      <td>546</td>\n",
              "      <td>147</td>\n",
              "      <td>486</td>\n",
              "      <td>0.833</td>\n",
              "      <td>0.677</td>\n",
              "      <td>0.304</td>\n",
              "      <td>0.589</td>\n",
              "      <td>1</td>\n",
              "    </tr>\n",
              "    <tr>\n",
              "      <th>1446</th>\n",
              "      <td>989.jpg</td>\n",
              "      <td>720</td>\n",
              "      <td>576</td>\n",
              "      <td>polyp</td>\n",
              "      <td>243</td>\n",
              "      <td>429</td>\n",
              "      <td>194</td>\n",
              "      <td>488</td>\n",
              "      <td>0.635</td>\n",
              "      <td>0.760</td>\n",
              "      <td>0.258</td>\n",
              "      <td>0.510</td>\n",
              "      <td>1</td>\n",
              "    </tr>\n",
              "    <tr>\n",
              "      <th>1455</th>\n",
              "      <td>996.jpg</td>\n",
              "      <td>585</td>\n",
              "      <td>530</td>\n",
              "      <td>polyp</td>\n",
              "      <td>294</td>\n",
              "      <td>423</td>\n",
              "      <td>4</td>\n",
              "      <td>199</td>\n",
              "      <td>0.864</td>\n",
              "      <td>0.195</td>\n",
              "      <td>0.221</td>\n",
              "      <td>0.368</td>\n",
              "      <td>1</td>\n",
              "    </tr>\n",
              "    <tr>\n",
              "      <th>1456</th>\n",
              "      <td>996.jpg</td>\n",
              "      <td>585</td>\n",
              "      <td>530</td>\n",
              "      <td>polyp</td>\n",
              "      <td>430</td>\n",
              "      <td>500</td>\n",
              "      <td>380</td>\n",
              "      <td>469</td>\n",
              "      <td>1.162</td>\n",
              "      <td>1.159</td>\n",
              "      <td>0.120</td>\n",
              "      <td>0.168</td>\n",
              "      <td>1</td>\n",
              "    </tr>\n",
              "  </tbody>\n",
              "</table>\n",
              "<p>288 rows × 13 columns</p>\n",
              "</div>\n",
              "      <button class=\"colab-df-convert\" onclick=\"convertToInteractive('df-f7398172-a708-4066-ba3d-b126d502713f')\"\n",
              "              title=\"Convert this dataframe to an interactive table.\"\n",
              "              style=\"display:none;\">\n",
              "        \n",
              "  <svg xmlns=\"http://www.w3.org/2000/svg\" height=\"24px\"viewBox=\"0 0 24 24\"\n",
              "       width=\"24px\">\n",
              "    <path d=\"M0 0h24v24H0V0z\" fill=\"none\"/>\n",
              "    <path d=\"M18.56 5.44l.94 2.06.94-2.06 2.06-.94-2.06-.94-.94-2.06-.94 2.06-2.06.94zm-11 1L8.5 8.5l.94-2.06 2.06-.94-2.06-.94L8.5 2.5l-.94 2.06-2.06.94zm10 10l.94 2.06.94-2.06 2.06-.94-2.06-.94-.94-2.06-.94 2.06-2.06.94z\"/><path d=\"M17.41 7.96l-1.37-1.37c-.4-.4-.92-.59-1.43-.59-.52 0-1.04.2-1.43.59L10.3 9.45l-7.72 7.72c-.78.78-.78 2.05 0 2.83L4 21.41c.39.39.9.59 1.41.59.51 0 1.02-.2 1.41-.59l7.78-7.78 2.81-2.81c.8-.78.8-2.07 0-2.86zM5.41 20L4 18.59l7.72-7.72 1.47 1.35L5.41 20z\"/>\n",
              "  </svg>\n",
              "      </button>\n",
              "      \n",
              "  <style>\n",
              "    .colab-df-container {\n",
              "      display:flex;\n",
              "      flex-wrap:wrap;\n",
              "      gap: 12px;\n",
              "    }\n",
              "\n",
              "    .colab-df-convert {\n",
              "      background-color: #E8F0FE;\n",
              "      border: none;\n",
              "      border-radius: 50%;\n",
              "      cursor: pointer;\n",
              "      display: none;\n",
              "      fill: #1967D2;\n",
              "      height: 32px;\n",
              "      padding: 0 0 0 0;\n",
              "      width: 32px;\n",
              "    }\n",
              "\n",
              "    .colab-df-convert:hover {\n",
              "      background-color: #E2EBFA;\n",
              "      box-shadow: 0px 1px 2px rgba(60, 64, 67, 0.3), 0px 1px 3px 1px rgba(60, 64, 67, 0.15);\n",
              "      fill: #174EA6;\n",
              "    }\n",
              "\n",
              "    [theme=dark] .colab-df-convert {\n",
              "      background-color: #3B4455;\n",
              "      fill: #D2E3FC;\n",
              "    }\n",
              "\n",
              "    [theme=dark] .colab-df-convert:hover {\n",
              "      background-color: #434B5C;\n",
              "      box-shadow: 0px 1px 3px 1px rgba(0, 0, 0, 0.15);\n",
              "      filter: drop-shadow(0px 1px 2px rgba(0, 0, 0, 0.3));\n",
              "      fill: #FFFFFF;\n",
              "    }\n",
              "  </style>\n",
              "\n",
              "      <script>\n",
              "        const buttonEl =\n",
              "          document.querySelector('#df-f7398172-a708-4066-ba3d-b126d502713f button.colab-df-convert');\n",
              "        buttonEl.style.display =\n",
              "          google.colab.kernel.accessAllowed ? 'block' : 'none';\n",
              "\n",
              "        async function convertToInteractive(key) {\n",
              "          const element = document.querySelector('#df-f7398172-a708-4066-ba3d-b126d502713f');\n",
              "          const dataTable =\n",
              "            await google.colab.kernel.invokeFunction('convertToInteractive',\n",
              "                                                     [key], {});\n",
              "          if (!dataTable) return;\n",
              "\n",
              "          const docLinkHtml = 'Like what you see? Visit the ' +\n",
              "            '<a target=\"_blank\" href=https://colab.research.google.com/notebooks/data_table.ipynb>data table notebook</a>'\n",
              "            + ' to learn more about interactive tables.';\n",
              "          element.innerHTML = '';\n",
              "          dataTable['output_type'] = 'display_data';\n",
              "          await google.colab.output.renderOutput(dataTable, element);\n",
              "          const docLink = document.createElement('div');\n",
              "          docLink.innerHTML = docLinkHtml;\n",
              "          element.appendChild(docLink);\n",
              "        }\n",
              "      </script>\n",
              "    </div>\n",
              "  </div>\n",
              "  "
            ]
          },
          "metadata": {},
          "execution_count": 53
        }
      ]
    },
    {
      "cell_type": "code",
      "source": [
        "train_folder = '/content/drive/MyDrive/Polyp Detection/dataset/train'\n",
        "test_folder = '/content/drive/MyDrive/Polyp Detection/dataset/test'\n",
        "\n",
        "os.mkdir(train_folder)\n",
        "os.mkdir(test_folder)"
      ],
      "metadata": {
        "id": "tNybNlWLj_Vy"
      },
      "execution_count": 54,
      "outputs": []
    },
    {
      "cell_type": "code",
      "source": [
        "cols = ['filename', 'id', 'center_x',\t'center_y',\t'width_norm',\t'height_norm']\n",
        "groupby_obj_train = train_df[cols].groupby('filename')\n",
        "groupby_obj_test = test_df[cols].groupby('filename')"
      ],
      "metadata": {
        "id": "UmhRzHSBjBJK"
      },
      "execution_count": 56,
      "outputs": []
    },
    {
      "cell_type": "code",
      "source": [
        "def save_data(filename, folder_path, group_obj):\n",
        "  src = os.path.join('/content/drive/MyDrive/Polyp Detection/dataset', filename)\n",
        "  dst = os.path.join(folder_path, filename)\n",
        "  move(src, dst)\n",
        "\n",
        "  text_filename = os.path.join(folder_path, os.path.splitext(filename)[0] + '.txt')\n",
        "  group_obj.get_group(filename).set_index('filename').to_csv(text_filename, sep=' ', index=False, header=False)"
      ],
      "metadata": {
        "id": "luZN54Vzi70r"
      },
      "execution_count": 60,
      "outputs": []
    },
    {
      "cell_type": "code",
      "source": [
        "filename_series = pd.Series(groupby_obj_train.groups.keys())\n",
        "filename_series.apply(save_data, args=(train_folder, groupby_obj_train))"
      ],
      "metadata": {
        "colab": {
          "base_uri": "https://localhost:8080/"
        },
        "id": "MWRXehBhpwNU",
        "outputId": "7192af62-2ef1-4daa-b425-76dcc6c4ace4"
      },
      "execution_count": 61,
      "outputs": [
        {
          "output_type": "execute_result",
          "data": {
            "text/plain": [
              "0      None\n",
              "1      None\n",
              "2      None\n",
              "3      None\n",
              "4      None\n",
              "       ... \n",
              "793    None\n",
              "794    None\n",
              "795    None\n",
              "796    None\n",
              "797    None\n",
              "Length: 798, dtype: object"
            ]
          },
          "metadata": {},
          "execution_count": 61
        }
      ]
    },
    {
      "cell_type": "code",
      "source": [
        "filename_series_test = pd.Series(groupby_obj_test.groups.keys())\n",
        "filename_series_test.apply(save_data, args=(test_folder, groupby_obj_test))"
      ],
      "metadata": {
        "colab": {
          "base_uri": "https://localhost:8080/"
        },
        "id": "hepxgSThpzRx",
        "outputId": "95c51913-ff4a-414c-83e6-55c03c65399f"
      },
      "execution_count": 62,
      "outputs": [
        {
          "output_type": "execute_result",
          "data": {
            "text/plain": [
              "0      None\n",
              "1      None\n",
              "2      None\n",
              "3      None\n",
              "4      None\n",
              "       ... \n",
              "194    None\n",
              "195    None\n",
              "196    None\n",
              "197    None\n",
              "198    None\n",
              "Length: 199, dtype: object"
            ]
          },
          "metadata": {},
          "execution_count": 62
        }
      ]
    },
    {
      "cell_type": "code",
      "source": [
        "for i in os.listdir('/content/drive/MyDrive/Polyp Detection/dataset'):\n",
        "  if os.path.splitext(i)[1] == '.xml':\n",
        "    path = '/content/drive/MyDrive/Polyp Detection/dataset/' + i\n",
        "    os.remove(path)"
      ],
      "metadata": {
        "id": "dQSy2Tf-qUFh"
      },
      "execution_count": 63,
      "outputs": []
    },
    {
      "cell_type": "code",
      "source": [],
      "metadata": {
        "id": "Jv9Vp6YJqcHl"
      },
      "execution_count": null,
      "outputs": []
    }
  ]
}