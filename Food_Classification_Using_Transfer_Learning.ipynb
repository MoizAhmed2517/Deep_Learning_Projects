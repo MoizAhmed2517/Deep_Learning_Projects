{
  "nbformat": 4,
  "nbformat_minor": 0,
  "metadata": {
    "colab": {
      "provenance": [],
      "authorship_tag": "ABX9TyN2JbHNVZyEuRjhDQbmuiXV",
      "include_colab_link": true
    },
    "kernelspec": {
      "name": "python3",
      "display_name": "Python 3"
    },
    "language_info": {
      "name": "python"
    },
    "accelerator": "GPU",
    "gpuClass": "standard"
  },
  "cells": [
    {
      "cell_type": "markdown",
      "metadata": {
        "id": "view-in-github",
        "colab_type": "text"
      },
      "source": [
        "<a href=\"https://colab.research.google.com/github/MoizAhmed2517/Deep_Learning_Projects/blob/main/Food_Classification_Using_Transfer_Learning.ipynb\" target=\"_parent\"><img src=\"https://colab.research.google.com/assets/colab-badge.svg\" alt=\"Open In Colab\"/></a>"
      ]
    },
    {
      "cell_type": "markdown",
      "source": [
        "# Transfer Learning - Food Vision App"
      ],
      "metadata": {
        "id": "r-Atdl0Xh5jy"
      }
    },
    {
      "cell_type": "code",
      "source": [
        "!wget https://storage.googleapis.com/ztm_tf_course/food_vision/10_food_classes_10_percent.zip"
      ],
      "metadata": {
        "colab": {
          "base_uri": "https://localhost:8080/"
        },
        "id": "EiwCFvxliYB_",
        "outputId": "fa602d6e-4655-4c0d-da17-10787bd5638c"
      },
      "execution_count": 1,
      "outputs": [
        {
          "output_type": "stream",
          "name": "stdout",
          "text": [
            "--2022-11-24 17:23:27--  https://storage.googleapis.com/ztm_tf_course/food_vision/10_food_classes_10_percent.zip\n",
            "Resolving storage.googleapis.com (storage.googleapis.com)... 142.250.4.128, 74.125.24.128, 172.217.194.128, ...\n",
            "Connecting to storage.googleapis.com (storage.googleapis.com)|142.250.4.128|:443... connected.\n",
            "HTTP request sent, awaiting response... 200 OK\n",
            "Length: 168546183 (161M) [application/zip]\n",
            "Saving to: ‘10_food_classes_10_percent.zip’\n",
            "\n",
            "10_food_classes_10_ 100%[===================>] 160.74M  23.0MB/s    in 7.9s    \n",
            "\n",
            "2022-11-24 17:23:35 (20.2 MB/s) - ‘10_food_classes_10_percent.zip’ saved [168546183/168546183]\n",
            "\n"
          ]
        }
      ]
    },
    {
      "cell_type": "code",
      "source": [
        "import zipfile\n",
        "\n",
        "zipref = zipfile.ZipFile(\"10_food_classes_10_percent.zip\")\n",
        "zipref.extractall()\n",
        "zipref.close()"
      ],
      "metadata": {
        "id": "mqK1IizTiZlI"
      },
      "execution_count": 2,
      "outputs": []
    },
    {
      "cell_type": "code",
      "source": [
        "import os\n",
        "for dirpath, dirnames, filenames in os.walk(\"10_food_classes_10_percent\"):\n",
        "  print(f\"There are {len(dirnames)} directories and {len(filenames)} images in '{dirpath}'\")"
      ],
      "metadata": {
        "colab": {
          "base_uri": "https://localhost:8080/"
        },
        "id": "YAkwkxiri8YM",
        "outputId": "f20422f1-1d90-4233-babf-5b0cedb59d36"
      },
      "execution_count": 3,
      "outputs": [
        {
          "output_type": "stream",
          "name": "stdout",
          "text": [
            "There are 2 directories and 0 images in '10_food_classes_10_percent'\n",
            "There are 10 directories and 0 images in '10_food_classes_10_percent/train'\n",
            "There are 0 directories and 75 images in '10_food_classes_10_percent/train/steak'\n",
            "There are 0 directories and 75 images in '10_food_classes_10_percent/train/chicken_wings'\n",
            "There are 0 directories and 75 images in '10_food_classes_10_percent/train/ice_cream'\n",
            "There are 0 directories and 75 images in '10_food_classes_10_percent/train/grilled_salmon'\n",
            "There are 0 directories and 75 images in '10_food_classes_10_percent/train/pizza'\n",
            "There are 0 directories and 75 images in '10_food_classes_10_percent/train/sushi'\n",
            "There are 0 directories and 75 images in '10_food_classes_10_percent/train/hamburger'\n",
            "There are 0 directories and 75 images in '10_food_classes_10_percent/train/chicken_curry'\n",
            "There are 0 directories and 75 images in '10_food_classes_10_percent/train/ramen'\n",
            "There are 0 directories and 75 images in '10_food_classes_10_percent/train/fried_rice'\n",
            "There are 10 directories and 0 images in '10_food_classes_10_percent/test'\n",
            "There are 0 directories and 250 images in '10_food_classes_10_percent/test/steak'\n",
            "There are 0 directories and 250 images in '10_food_classes_10_percent/test/chicken_wings'\n",
            "There are 0 directories and 250 images in '10_food_classes_10_percent/test/ice_cream'\n",
            "There are 0 directories and 250 images in '10_food_classes_10_percent/test/grilled_salmon'\n",
            "There are 0 directories and 250 images in '10_food_classes_10_percent/test/pizza'\n",
            "There are 0 directories and 250 images in '10_food_classes_10_percent/test/sushi'\n",
            "There are 0 directories and 250 images in '10_food_classes_10_percent/test/hamburger'\n",
            "There are 0 directories and 250 images in '10_food_classes_10_percent/test/chicken_curry'\n",
            "There are 0 directories and 250 images in '10_food_classes_10_percent/test/ramen'\n",
            "There are 0 directories and 250 images in '10_food_classes_10_percent/test/fried_rice'\n"
          ]
        }
      ]
    },
    {
      "cell_type": "code",
      "source": [
        "import numpy as np\n",
        "import pandas as pd\n",
        "import pathlib\n",
        "import tensorflow as tf\n",
        "import matplotlib.pyplot as plt\n",
        "import matplotlib.image as mpimg\n",
        "from tensorflow.keras.preprocessing.image import ImageDataGenerator\n",
        "from tensorflow.keras.optimizers import Adam\n",
        "from tensorflow.keras.layers import Conv2D, Dense, Flatten, Activation, MaxPool2D"
      ],
      "metadata": {
        "id": "rN_eMlsRlWFS"
      },
      "execution_count": 4,
      "outputs": []
    },
    {
      "cell_type": "code",
      "source": [
        "IMAGE_SHAPE = (224, 224)\n",
        "BATCH_SIZE = 32\n",
        "\n",
        "train_dir = \"10_food_classes_10_percent/train/\"\n",
        "test_dir = \"10_food_classes_10_percent/test\"\n",
        "\n",
        "train_datagen = ImageDataGenerator(rescale=1/255.)\n",
        "test_datagen = ImageDataGenerator(rescale=1/255.)\n",
        "\n",
        "train_data = train_datagen.flow_from_directory(train_dir,\n",
        "                                               target_size=IMAGE_SHAPE,\n",
        "                                               class_mode=\"categorical\",\n",
        "                                               batch_size=BATCH_SIZE)\n",
        "\n",
        "test_data = train_datagen.flow_from_directory(test_dir,\n",
        "                                               target_size=IMAGE_SHAPE,\n",
        "                                               class_mode=\"categorical\",\n",
        "                                               batch_size=BATCH_SIZE)"
      ],
      "metadata": {
        "colab": {
          "base_uri": "https://localhost:8080/"
        },
        "id": "ndGWuVVSmKoV",
        "outputId": "44e7a28d-c990-4280-9614-eaf3a8343d7d"
      },
      "execution_count": 5,
      "outputs": [
        {
          "output_type": "stream",
          "name": "stdout",
          "text": [
            "Found 750 images belonging to 10 classes.\n",
            "Found 2500 images belonging to 10 classes.\n"
          ]
        }
      ]
    },
    {
      "cell_type": "markdown",
      "source": [
        "## Setting our callbacks (things to run whilst our model trains)\n",
        "\n",
        "Callbacks are extra fucntionality you can add to your models to be performed during or after training. Some of the most popular callbacks are:\n",
        "\n",
        "* Tracking experiments with the TensorBoard callback\n",
        "* Model checkpoint with the ModelCheckPoint callback\n",
        "* Using Earlystopping technique as callback"
      ],
      "metadata": {
        "id": "P2_han_bmFv4"
      }
    },
    {
      "cell_type": "code",
      "source": [
        "# Creating a function for settingUp Tensorboard callback\n",
        "\n",
        "import datetime\n",
        "def create_tensorboard_callback(dir_name, experiment_name):\n",
        "  log_dir = dir_name + \"/\" + experiment_name + \"/\" + datetime.datetime.now().strftime(\"%Y%m%d-$H%M%S\")\n",
        "  tensorboar_callback = tf.keras.callbacks.TensorBoard(log_dir)\n",
        "  print(f\"Saving Tensorboard log files to:  {log_dir}\")\n",
        "  return tensorboar_callback"
      ],
      "metadata": {
        "id": "dONNOzUewvLQ"
      },
      "execution_count": 6,
      "outputs": []
    },
    {
      "cell_type": "code",
      "source": [
        "# Browsing the tensorflow HUb page and sorting for image classification\n",
        "# Using following two models in contrast with each other\n",
        "\n",
        "# 1. ImageNet/Resenet-V2-50/feature vector :https://tfhub.dev/google/imagenet/resnet_v2_50/feature_vector/5\n",
        "# 2. EfficientNet/B0/feature Vector :https://tfhub.dev/tensorflow/efficientnet/b0/feature-vector/1"
      ],
      "metadata": {
        "id": "iWAMUSy00KRy"
      },
      "execution_count": 7,
      "outputs": []
    },
    {
      "cell_type": "code",
      "source": [
        "resnet_url = \"https://tfhub.dev/google/imagenet/resnet_v2_50/feature_vector/5\"\n",
        "efficientnet_url = \"https://tfhub.dev/tensorflow/efficientnet/b0/feature-vector/1\""
      ],
      "metadata": {
        "id": "oYUlesxb7XQ5"
      },
      "execution_count": 8,
      "outputs": []
    },
    {
      "cell_type": "code",
      "source": [
        "import tensorflow_hub as hub\n",
        "\n",
        "# Creating model builder function\n",
        "\n",
        "def create_model(model_url, num_classes=10):\n",
        "  \"\"\"\n",
        "  Takes a Tensorfloe HUB URL and creates a Keras Sequential mode with it.\n",
        "\n",
        "  ArgsL\n",
        "    model_url (Str): A tensorflow HUB Feature extraction URL\n",
        "    num_classes (int): NUmber of output neuron in the output layer\n",
        "      should be equal to number of target classes, default 10\n",
        "\n",
        "  Returns:\n",
        "    An uncompile keras sequential model with model_url as feature extractor layer and Dense output layer with num_classes output neuron.\n",
        "  \n",
        "  \"\"\"\n",
        "\n",
        "  feature_exctractor_layer = hub.KerasLayer(model_url, \n",
        "                                            trainable=False,  # Freeze the already learned pattern \n",
        "                                            name=\"feature_extraction_layer\",\n",
        "                                            input_shape=IMAGE_SHAPE+(3,)) \n",
        "  \n",
        "  model = tf.keras.Sequential([\n",
        "      feature_exctractor_layer,\n",
        "      Dense(num_classes, activation=\"softmax\", name=\"output_layer\")\n",
        "  ])\n",
        "\n",
        "  return model\n",
        "  \n"
      ],
      "metadata": {
        "id": "zojEHt7H7wDM"
      },
      "execution_count": 9,
      "outputs": []
    },
    {
      "cell_type": "markdown",
      "source": [
        "## Creating ResNet TensorFlow HUB Feature Extraction mdoel\n",
        "\n"
      ],
      "metadata": {
        "id": "znipHSKp9_EZ"
      }
    },
    {
      "cell_type": "code",
      "source": [
        "resnet_model = create_model(resnet_url,\n",
        "                            num_classes=train_data.num_classes)"
      ],
      "metadata": {
        "id": "AKZez-xp-E32"
      },
      "execution_count": 10,
      "outputs": []
    },
    {
      "cell_type": "code",
      "source": [
        "resnet_model.compile(loss=\"categorical_crossentropy\",\n",
        "                     optimizer=Adam(),\n",
        "                     metrics=[\"accuracy\"])"
      ],
      "metadata": {
        "id": "dHr9LcED-f1f"
      },
      "execution_count": 11,
      "outputs": []
    },
    {
      "cell_type": "code",
      "source": [
        "resenet_history = resnet_model.fit(train_data,\n",
        "                 epochs=5,\n",
        "                 steps_per_epoch=len(train_data),\n",
        "                 validation_data=test_data,\n",
        "                 validation_steps=len(test_data),\n",
        "                 callbacks=[create_tensorboard_callback(dir_name=\"tensorflow_hub\",\n",
        "                                                        experiment_name=\"resnet50V2\")])"
      ],
      "metadata": {
        "colab": {
          "base_uri": "https://localhost:8080/"
        },
        "id": "mZQsSek5_KaL",
        "outputId": "89017d37-a370-41e4-b676-0286047efac0"
      },
      "execution_count": 12,
      "outputs": [
        {
          "output_type": "stream",
          "name": "stdout",
          "text": [
            "Saving Tensorboard log files to:  tensorflow_hub/resnet50V2/20221124-$H2351\n",
            "Epoch 1/5\n",
            "24/24 [==============================] - 28s 742ms/step - loss: 2.3406 - accuracy: 0.2253 - val_loss: 1.4789 - val_accuracy: 0.5324\n",
            "Epoch 2/5\n",
            "24/24 [==============================] - 15s 660ms/step - loss: 1.0259 - accuracy: 0.6960 - val_loss: 0.9567 - val_accuracy: 0.6952\n",
            "Epoch 3/5\n",
            "24/24 [==============================] - 15s 658ms/step - loss: 0.6742 - accuracy: 0.8133 - val_loss: 0.7814 - val_accuracy: 0.7488\n",
            "Epoch 4/5\n",
            "24/24 [==============================] - 15s 653ms/step - loss: 0.5103 - accuracy: 0.8747 - val_loss: 0.7243 - val_accuracy: 0.7712\n",
            "Epoch 5/5\n",
            "24/24 [==============================] - 15s 660ms/step - loss: 0.4070 - accuracy: 0.9027 - val_loss: 0.6946 - val_accuracy: 0.7776\n"
          ]
        }
      ]
    },
    {
      "cell_type": "code",
      "source": [
        "# Creating a function to plot our loss curves...\n",
        "\n",
        "def plot_loss_curves(history):\n",
        "  df = pd.DataFrame(history.history)\n",
        "  epochs = range(len(df.loss))\n",
        "  plt.plot(epochs, df.loss, label=\"Training Loss\")\n",
        "  plt.plot(epochs, df.val_loss, label=\"Validation Loss\")\n",
        "  plt.title(\"Loss Curves\")\n",
        "  plt.xlabel(\"Epochs\")\n",
        "  plt.legend()\n",
        "  plt.figure()\n",
        "  plt.plot(epochs, df.accuracy, label=\"Training accuracy\")\n",
        "  plt.plot(epochs, df.val_accuracy, label=\"Validation accuracy\")\n",
        "  plt.title(\"Accuracy Curves\")\n",
        "  plt.xlabel(\"Epochs\")\n",
        "  plt.legend()"
      ],
      "metadata": {
        "id": "FIhwkTAU_qI3"
      },
      "execution_count": 29,
      "outputs": []
    },
    {
      "cell_type": "code",
      "source": [
        "df = pd.DataFrame(resenet_history.history)\n",
        "df"
      ],
      "metadata": {
        "colab": {
          "base_uri": "https://localhost:8080/",
          "height": 206
        },
        "id": "yWA9ww0nsWd4",
        "outputId": "a26f9995-a235-40f0-f566-4f5c1d9bb3dd"
      },
      "execution_count": 27,
      "outputs": [
        {
          "output_type": "execute_result",
          "data": {
            "text/plain": [
              "       loss  accuracy  val_loss  val_accuracy\n",
              "0  2.340625  0.225333  1.478895        0.5324\n",
              "1  1.025861  0.696000  0.956745        0.6952\n",
              "2  0.674177  0.813333  0.781386        0.7488\n",
              "3  0.510292  0.874667  0.724305        0.7712\n",
              "4  0.406990  0.902667  0.694596        0.7776"
            ],
            "text/html": [
              "\n",
              "  <div id=\"df-ef29bd78-5f5f-406d-9f18-d231e4465a81\">\n",
              "    <div class=\"colab-df-container\">\n",
              "      <div>\n",
              "<style scoped>\n",
              "    .dataframe tbody tr th:only-of-type {\n",
              "        vertical-align: middle;\n",
              "    }\n",
              "\n",
              "    .dataframe tbody tr th {\n",
              "        vertical-align: top;\n",
              "    }\n",
              "\n",
              "    .dataframe thead th {\n",
              "        text-align: right;\n",
              "    }\n",
              "</style>\n",
              "<table border=\"1\" class=\"dataframe\">\n",
              "  <thead>\n",
              "    <tr style=\"text-align: right;\">\n",
              "      <th></th>\n",
              "      <th>loss</th>\n",
              "      <th>accuracy</th>\n",
              "      <th>val_loss</th>\n",
              "      <th>val_accuracy</th>\n",
              "    </tr>\n",
              "  </thead>\n",
              "  <tbody>\n",
              "    <tr>\n",
              "      <th>0</th>\n",
              "      <td>2.340625</td>\n",
              "      <td>0.225333</td>\n",
              "      <td>1.478895</td>\n",
              "      <td>0.5324</td>\n",
              "    </tr>\n",
              "    <tr>\n",
              "      <th>1</th>\n",
              "      <td>1.025861</td>\n",
              "      <td>0.696000</td>\n",
              "      <td>0.956745</td>\n",
              "      <td>0.6952</td>\n",
              "    </tr>\n",
              "    <tr>\n",
              "      <th>2</th>\n",
              "      <td>0.674177</td>\n",
              "      <td>0.813333</td>\n",
              "      <td>0.781386</td>\n",
              "      <td>0.7488</td>\n",
              "    </tr>\n",
              "    <tr>\n",
              "      <th>3</th>\n",
              "      <td>0.510292</td>\n",
              "      <td>0.874667</td>\n",
              "      <td>0.724305</td>\n",
              "      <td>0.7712</td>\n",
              "    </tr>\n",
              "    <tr>\n",
              "      <th>4</th>\n",
              "      <td>0.406990</td>\n",
              "      <td>0.902667</td>\n",
              "      <td>0.694596</td>\n",
              "      <td>0.7776</td>\n",
              "    </tr>\n",
              "  </tbody>\n",
              "</table>\n",
              "</div>\n",
              "      <button class=\"colab-df-convert\" onclick=\"convertToInteractive('df-ef29bd78-5f5f-406d-9f18-d231e4465a81')\"\n",
              "              title=\"Convert this dataframe to an interactive table.\"\n",
              "              style=\"display:none;\">\n",
              "        \n",
              "  <svg xmlns=\"http://www.w3.org/2000/svg\" height=\"24px\"viewBox=\"0 0 24 24\"\n",
              "       width=\"24px\">\n",
              "    <path d=\"M0 0h24v24H0V0z\" fill=\"none\"/>\n",
              "    <path d=\"M18.56 5.44l.94 2.06.94-2.06 2.06-.94-2.06-.94-.94-2.06-.94 2.06-2.06.94zm-11 1L8.5 8.5l.94-2.06 2.06-.94-2.06-.94L8.5 2.5l-.94 2.06-2.06.94zm10 10l.94 2.06.94-2.06 2.06-.94-2.06-.94-.94-2.06-.94 2.06-2.06.94z\"/><path d=\"M17.41 7.96l-1.37-1.37c-.4-.4-.92-.59-1.43-.59-.52 0-1.04.2-1.43.59L10.3 9.45l-7.72 7.72c-.78.78-.78 2.05 0 2.83L4 21.41c.39.39.9.59 1.41.59.51 0 1.02-.2 1.41-.59l7.78-7.78 2.81-2.81c.8-.78.8-2.07 0-2.86zM5.41 20L4 18.59l7.72-7.72 1.47 1.35L5.41 20z\"/>\n",
              "  </svg>\n",
              "      </button>\n",
              "      \n",
              "  <style>\n",
              "    .colab-df-container {\n",
              "      display:flex;\n",
              "      flex-wrap:wrap;\n",
              "      gap: 12px;\n",
              "    }\n",
              "\n",
              "    .colab-df-convert {\n",
              "      background-color: #E8F0FE;\n",
              "      border: none;\n",
              "      border-radius: 50%;\n",
              "      cursor: pointer;\n",
              "      display: none;\n",
              "      fill: #1967D2;\n",
              "      height: 32px;\n",
              "      padding: 0 0 0 0;\n",
              "      width: 32px;\n",
              "    }\n",
              "\n",
              "    .colab-df-convert:hover {\n",
              "      background-color: #E2EBFA;\n",
              "      box-shadow: 0px 1px 2px rgba(60, 64, 67, 0.3), 0px 1px 3px 1px rgba(60, 64, 67, 0.15);\n",
              "      fill: #174EA6;\n",
              "    }\n",
              "\n",
              "    [theme=dark] .colab-df-convert {\n",
              "      background-color: #3B4455;\n",
              "      fill: #D2E3FC;\n",
              "    }\n",
              "\n",
              "    [theme=dark] .colab-df-convert:hover {\n",
              "      background-color: #434B5C;\n",
              "      box-shadow: 0px 1px 3px 1px rgba(0, 0, 0, 0.15);\n",
              "      filter: drop-shadow(0px 1px 2px rgba(0, 0, 0, 0.3));\n",
              "      fill: #FFFFFF;\n",
              "    }\n",
              "  </style>\n",
              "\n",
              "      <script>\n",
              "        const buttonEl =\n",
              "          document.querySelector('#df-ef29bd78-5f5f-406d-9f18-d231e4465a81 button.colab-df-convert');\n",
              "        buttonEl.style.display =\n",
              "          google.colab.kernel.accessAllowed ? 'block' : 'none';\n",
              "\n",
              "        async function convertToInteractive(key) {\n",
              "          const element = document.querySelector('#df-ef29bd78-5f5f-406d-9f18-d231e4465a81');\n",
              "          const dataTable =\n",
              "            await google.colab.kernel.invokeFunction('convertToInteractive',\n",
              "                                                     [key], {});\n",
              "          if (!dataTable) return;\n",
              "\n",
              "          const docLinkHtml = 'Like what you see? Visit the ' +\n",
              "            '<a target=\"_blank\" href=https://colab.research.google.com/notebooks/data_table.ipynb>data table notebook</a>'\n",
              "            + ' to learn more about interactive tables.';\n",
              "          element.innerHTML = '';\n",
              "          dataTable['output_type'] = 'display_data';\n",
              "          await google.colab.output.renderOutput(dataTable, element);\n",
              "          const docLink = document.createElement('div');\n",
              "          docLink.innerHTML = docLinkHtml;\n",
              "          element.appendChild(docLink);\n",
              "        }\n",
              "      </script>\n",
              "    </div>\n",
              "  </div>\n",
              "  "
            ]
          },
          "metadata": {},
          "execution_count": 27
        }
      ]
    },
    {
      "cell_type": "code",
      "source": [
        "plot_loss_curves(resenet_history)"
      ],
      "metadata": {
        "colab": {
          "base_uri": "https://localhost:8080/",
          "height": 573
        },
        "id": "OJZ6vDP-scwf",
        "outputId": "5a169f20-2462-4a3e-d633-f3ff85970c9a"
      },
      "execution_count": 30,
      "outputs": [
        {
          "output_type": "display_data",
          "data": {
            "text/plain": [
              "<Figure size 432x288 with 1 Axes>"
            ],
            "image/png": "[encoded data removed]"
          },
          "metadata": {
            "needs_background": "light"
          }
        },
        {
          "output_type": "display_data",
          "data": {
            "text/plain": [
              "<Figure size 432x288 with 1 Axes>"
            ],
            "image/png": "[encoded data removed]"
          },
          "metadata": {
            "needs_background": "light"
          }
        }
      ]
    },
    {
      "cell_type": "code",
      "source": [
        "# Much better loss curves"
      ],
      "metadata": {
        "id": "C54CAmjOuI-Z"
      },
      "execution_count": 31,
      "outputs": []
    },
    {
      "cell_type": "markdown",
      "source": [
        "## Creating ResNet TensorFlow HUB Feature Extraction mdoel"
      ],
      "metadata": {
        "id": "HZWD8I3PtJib"
      }
    },
    {
      "cell_type": "code",
      "source": [
        "effnet_model = create_model(model_url=efficientnet_url, num_classes=train_data.num_classes)\n",
        "\n",
        "effnet_model.compile(loss=\"categorical_crossentropy\",\n",
        "                     optimizer=Adam(),\n",
        "                     metrics=[\"accuracy\"])\n",
        "\n",
        "effnet_history = effnet_model.fit(train_data,\n",
        "                                  epochs=5,\n",
        "                                  steps_per_epoch=len(train_data),\n",
        "                                  validation_data=test_data,\n",
        "                                  validation_steps=len(test_data),\n",
        "                                  callbacks = [create_tensorboard_callback(dir_name=\"tensorflow_hub\",\n",
        "                                                        experiment_name=\"EfficientNetB0\")])"
      ],
      "metadata": {
        "colab": {
          "base_uri": "https://localhost:8080/"
        },
        "id": "Qj9YtKnWtDvG",
        "outputId": "b18f5409-ae52-420c-dd56-92cd7c206303"
      },
      "execution_count": 37,
      "outputs": [
        {
          "output_type": "stream",
          "name": "stdout",
          "text": [
            "Saving Tensorboard log files to:  tensorflow_hub/EfficientNetB0/20221124-$H5301\n",
            "Epoch 1/5\n",
            "24/24 [==============================] - 27s 701ms/step - loss: 1.8337 - accuracy: 0.4360 - val_loss: 1.3028 - val_accuracy: 0.7220\n",
            "Epoch 2/5\n",
            "24/24 [==============================] - 15s 640ms/step - loss: 1.0613 - accuracy: 0.7747 - val_loss: 0.8734 - val_accuracy: 0.8200\n",
            "Epoch 3/5\n",
            "24/24 [==============================] - 15s 638ms/step - loss: 0.7604 - accuracy: 0.8387 - val_loss: 0.6968 - val_accuracy: 0.8432\n",
            "Epoch 4/5\n",
            "24/24 [==============================] - 15s 634ms/step - loss: 0.6116 - accuracy: 0.8640 - val_loss: 0.6102 - val_accuracy: 0.8532\n",
            "Epoch 5/5\n",
            "24/24 [==============================] - 18s 773ms/step - loss: 0.5166 - accuracy: 0.8853 - val_loss: 0.5569 - val_accuracy: 0.8624\n"
          ]
        }
      ]
    },
    {
      "cell_type": "code",
      "source": [
        "plot_loss_curves(effnet_history)"
      ],
      "metadata": {
        "colab": {
          "base_uri": "https://localhost:8080/",
          "height": 573
        },
        "id": "OIGn23AowoGv",
        "outputId": "36e2fe82-edd6-43ca-9b15-fc610ea0ca7a"
      },
      "execution_count": 38,
      "outputs": [
        {
          "output_type": "display_data",
          "data": {
            "text/plain": [
              "<Figure size 432x288 with 1 Axes>"
            ],
            "image/png": "[encoded data removed]"
          },
          "metadata": {
            "needs_background": "light"
          }
        },
        {
          "output_type": "display_data",
          "data": {
            "text/plain": [
              "<Figure size 432x288 with 1 Axes>"
            ],
            "image/png": "[encoded data removed]"
          },
          "metadata": {
            "needs_background": "light"
          }
        }
      ]
    },
    {
      "cell_type": "code",
      "source": [
        "# Excellent Efficient Net B) is working quitely high and much better than Resnet-50"
      ],
      "metadata": {
        "id": "a6CtxUYNxvdv"
      },
      "execution_count": 39,
      "outputs": []
    },
    {
      "cell_type": "code",
      "source": [
        "effnet_model.summary()"
      ],
      "metadata": {
        "colab": {
          "base_uri": "https://localhost:8080/"
        },
        "id": "HX5KfpovylF8",
        "outputId": "dac83b32-2af9-41bf-a2c4-705b32e28266"
      },
      "execution_count": 40,
      "outputs": [
        {
          "output_type": "stream",
          "name": "stdout",
          "text": [
            "Model: \"sequential_1\"\n",
            "_________________________________________________________________\n",
            " Layer (type)                Output Shape              Param #   \n",
            "=================================================================\n",
            " feature_extraction_layer (K  (None, 1280)             4049564   \n",
            " erasLayer)                                                      \n",
            "                                                                 \n",
            " output_layer (Dense)        (None, 10)                12810     \n",
            "                                                                 \n",
            "=================================================================\n",
            "Total params: 4,062,374\n",
            "Trainable params: 12,810\n",
            "Non-trainable params: 4,049,564\n",
            "_________________________________________________________________\n"
          ]
        }
      ]
    },
    {
      "cell_type": "code",
      "source": [
        "resnet_model.summary()"
      ],
      "metadata": {
        "colab": {
          "base_uri": "https://localhost:8080/"
        },
        "id": "qczfggkFyoMb",
        "outputId": "5035a4d9-6acf-4178-b5f6-7997c519f17f"
      },
      "execution_count": 42,
      "outputs": [
        {
          "output_type": "stream",
          "name": "stdout",
          "text": [
            "Model: \"sequential\"\n",
            "_________________________________________________________________\n",
            " Layer (type)                Output Shape              Param #   \n",
            "=================================================================\n",
            " feature_extraction_layer (K  (None, 2048)             23564800  \n",
            " erasLayer)                                                      \n",
            "                                                                 \n",
            " output_layer (Dense)        (None, 10)                20490     \n",
            "                                                                 \n",
            "=================================================================\n",
            "Total params: 23,585,290\n",
            "Trainable params: 20,490\n",
            "Non-trainable params: 23,564,800\n",
            "_________________________________________________________________\n"
          ]
        }
      ]
    },
    {
      "cell_type": "code",
      "source": [
        "# Comparing total parameters it can be observed that efficient net is performing much well in comparison with resent"
      ],
      "metadata": {
        "id": "CeR7EGiqyyvq"
      },
      "execution_count": 43,
      "outputs": []
    },
    {
      "cell_type": "code",
      "source": [
        "# CHecking the no. layers in efficienct net\n",
        "len(effnet_model.layers[0].weights)"
      ],
      "metadata": {
        "colab": {
          "base_uri": "https://localhost:8080/"
        },
        "id": "rHt_2EVWysDd",
        "outputId": "5af31dc1-a596-4b3f-a80c-b5192881b585"
      },
      "execution_count": 49,
      "outputs": [
        {
          "output_type": "execute_result",
          "data": {
            "text/plain": [
              "309"
            ]
          },
          "metadata": {},
          "execution_count": 49
        }
      ]
    },
    {
      "cell_type": "code",
      "source": [
        "# Comparing our model Using TensorBoard"
      ],
      "metadata": {
        "id": "dieSGluB2QTT"
      },
      "execution_count": 50,
      "outputs": []
    },
    {
      "cell_type": "code",
      "source": [
        "!tensorboard dev upload --logdir ./tensorflow_hub/ \\\n",
        "  --name \"EfficientNetB0 vs, ResNet50V2\" \\\n",
        "  --description \"Comparing two different TF hub fetature extraction model architecture with our food 101 vision\" \\\n",
        "  --one_shot"
      ],
      "metadata": {
        "colab": {
          "base_uri": "https://localhost:8080/"
        },
        "id": "oEhBa9GU2TIR",
        "outputId": "3f003e2c-4588-4fd3-de48-5f40e9f36ab0"
      },
      "execution_count": 51,
      "outputs": [
        {
          "output_type": "stream",
          "name": "stdout",
          "text": [
            "\n",
            "***** TensorBoard Uploader *****\n",
            "\n",
            "This will upload your TensorBoard logs to https://tensorboard.dev/ from\n",
            "the following directory:\n",
            "\n",
            "./tensorflow_hub/\n",
            "\n",
            "This TensorBoard will be visible to everyone. Do not upload sensitive\n",
            "data.\n",
            "\n",
            "Your use of this service is subject to Google's Terms of Service\n",
            "<https://policies.google.com/terms> and Privacy Policy\n",
            "<https://policies.google.com/privacy>, and TensorBoard.dev's Terms of Service\n",
            "<https://tensorboard.dev/policy/terms/>.\n",
            "\n",
            "This notice will not be shown again while you are logged into the uploader.\n",
            "To log out, run `tensorboard dev auth revoke`.\n",
            "\n",
            "Continue? (yes/NO) yes\n",
            "\n",
            "Please visit this URL to authorize this application: https://accounts.google.com/o/oauth2/auth?response_type=code&client_id=373649185512-8v619h5kft38l4456nm2dj4ubeqsrvh6.apps.googleusercontent.com&redirect_uri=urn%3Aietf%3Awg%3Aoauth%3A2.0%3Aoob&scope=openid+https%3A%2F%2Fwww.googleapis.com%2Fauth%2Fuserinfo.email&state=vWh8ATQy6BKyTtgptHJYOKO0Em9qSi&prompt=consent&access_type=offline\n",
            "Enter the authorization code: 4/1AfgeXvuhs-SnGUK08tOaA6_-A_kEYa-sHHxfzDufv6Ce5n94O9ISCrPAYrk\n",
            "\n",
            "\n",
            "New experiment created. View your TensorBoard at: https://tensorboard.dev/experiment/UYDC1RE4TRWZOm83TYf1TQ/\n",
            "\n",
            "\u001b[1m[2022-11-24T18:22:02]\u001b[0m Started scanning logdir.\n",
            "\u001b[1m[2022-11-24T18:22:07]\u001b[0m Total uploaded: 60 scalars, 0 tensors, 2 binary objects (5.5 MB)\n",
            "\u001b[1m[2022-11-24T18:22:07]\u001b[0m Done scanning logdir.\n",
            "\n",
            "\n",
            "Done. View your TensorBoard at https://tensorboard.dev/experiment/UYDC1RE4TRWZOm83TYf1TQ/\n"
          ]
        }
      ]
    },
    {
      "cell_type": "markdown",
      "source": [
        "#### Our tensorboard experiments are uploaded publically here: https://tensorboard.dev/experiment/UYDC1RE4TRWZOm83TYf1TQ/"
      ],
      "metadata": {
        "id": "2kK3FksV4BVW"
      }
    },
    {
      "cell_type": "code",
      "source": [
        "# Checking experiments running on Tensor Board\n",
        "!tensorboard dev list"
      ],
      "metadata": {
        "colab": {
          "base_uri": "https://localhost:8080/"
        },
        "id": "JszDIOYF44Aj",
        "outputId": "33f9eca9-b989-4617-e97d-6e4150af38a8"
      },
      "execution_count": 52,
      "outputs": [
        {
          "output_type": "stream",
          "name": "stdout",
          "text": [
            "https://tensorboard.dev/experiment/UYDC1RE4TRWZOm83TYf1TQ/\n",
            "\tName                 EfficientNetB0 vs, ResNet50V2\n",
            "\tDescription          Comparing two different TF hub fetature extraction model architecture with our food 101 vision\n",
            "\tId                   UYDC1RE4TRWZOm83TYf1TQ\n",
            "\tCreated              2022-11-24 18:22:02 (5 minutes ago)\n",
            "\tUpdated              2022-11-24 18:22:07 (5 minutes ago)\n",
            "\tRuns                 4\n",
            "\tTags                 5\n",
            "\tScalars              60\n",
            "\tTensor bytes         0\n",
            "\tBinary object bytes  5794895\n",
            "Total: 1 experiment(s)\n"
          ]
        }
      ]
    },
    {
      "cell_type": "code",
      "source": [
        "# delete an experiment\n",
        "# !tensorboard dev delete --experiment_id UYDC1RE4TRWZOm83TYf1TQ"
      ],
      "metadata": {
        "id": "Qyaq-PTv5Lrv"
      },
      "execution_count": 53,
      "outputs": []
    }
  ]
}