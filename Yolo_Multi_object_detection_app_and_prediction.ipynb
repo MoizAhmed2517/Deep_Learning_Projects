{
  "nbformat": 4,
  "nbformat_minor": 0,
  "metadata": {
    "colab": {
      "provenance": [],
      "authorship_tag": "ABX9TyNkSMwdI2dW4mEXLlF47FeB",
      "include_colab_link": true
    },
    "kernelspec": {
      "name": "python3",
      "display_name": "Python 3"
    },
    "language_info": {
      "name": "python"
    }
  },
  "cells": [
    {
      "cell_type": "markdown",
      "metadata": {
        "id": "view-in-github",
        "colab_type": "text"
      },
      "source": [
        "<a href=\"https://colab.research.google.com/github/MoizAhmed2517/Deep_Learning_Projects/blob/main/Yolo_Multi_object_detection_app_and_prediction.ipynb\" target=\"_parent\"><img src=\"https://colab.research.google.com/assets/colab-badge.svg\" alt=\"Open In Colab\"/></a>"
      ]
    },
    {
      "cell_type": "markdown",
      "source": [
        "#Making an app for YOLO based Prediction"
      ],
      "metadata": {
        "id": "MY6ElXxKcmF2"
      }
    },
    {
      "cell_type": "code",
      "source": [
        "import cv2\n",
        "import numpy as np\n",
        "import os"
      ],
      "metadata": {
        "id": "fvDfyICAcvtg"
      },
      "execution_count": 2,
      "outputs": []
    },
    {
      "cell_type": "code",
      "source": [
        "!pip install PyYAML"
      ],
      "metadata": {
        "colab": {
          "base_uri": "https://localhost:8080/"
        },
        "id": "kODfDrQ-c5Ga",
        "outputId": "25649062-4191-41f9-cedf-86ac87b3520d"
      },
      "execution_count": 3,
      "outputs": [
        {
          "output_type": "stream",
          "name": "stdout",
          "text": [
            "Looking in indexes: https://pypi.org/simple, https://us-python.pkg.dev/colab-wheels/public/simple/\n",
            "Requirement already satisfied: PyYAML in /usr/local/lib/python3.8/dist-packages (6.0)\n"
          ]
        }
      ]
    },
    {
      "cell_type": "code",
      "source": [
        "import yaml\n",
        "from yaml.loader import SafeLoader"
      ],
      "metadata": {
        "id": "juC8Lq1qdF16"
      },
      "execution_count": 4,
      "outputs": []
    },
    {
      "cell_type": "markdown",
      "source": [
        "Steps for making Prediction\n",
        "* Load YAML file\n",
        "* Load YOLO model\n",
        "* Load the image\n",
        "* Perform Non-maximum supression\n",
        "* Draw the bounding box"
      ],
      "metadata": {
        "id": "GVq4J6MGdNJK"
      }
    },
    {
      "cell_type": "markdown",
      "source": [
        "### Loading the YAML file"
      ],
      "metadata": {
        "id": "fdZPjpuEdk6G"
      }
    },
    {
      "cell_type": "code",
      "source": [
        "with open('data.yaml', mode='r') as f:\n",
        "  data_yaml = yaml.load(f, Loader=SafeLoader)\n",
        "\n",
        "labels = data_yaml['names']"
      ],
      "metadata": {
        "id": "9J6uZ_bjdo-D"
      },
      "execution_count": 8,
      "outputs": []
    },
    {
      "cell_type": "code",
      "source": [],
      "metadata": {
        "id": "Xj34YunefXhQ"
      },
      "execution_count": null,
      "outputs": []
    },
    {
      "cell_type": "code",
      "source": [],
      "metadata": {
        "id": "kYq4GNpjfQ50"
      },
      "execution_count": null,
      "outputs": []
    },
    {
      "cell_type": "code",
      "source": [],
      "metadata": {
        "id": "dn7IFeWAfNTw"
      },
      "execution_count": null,
      "outputs": []
    }
  ]
}