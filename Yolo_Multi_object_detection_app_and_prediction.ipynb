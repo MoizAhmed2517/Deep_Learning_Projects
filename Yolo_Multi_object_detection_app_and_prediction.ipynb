{
  "nbformat": 4,
  "nbformat_minor": 0,
  "metadata": {
    "colab": {
      "provenance": [],
      "authorship_tag": "ABX9TyPyCywEVWxsHx9XX1D1Ci7P",
      "include_colab_link": true
    },
    "kernelspec": {
      "name": "python3",
      "display_name": "Python 3"
    },
    "language_info": {
      "name": "python"
    }
  },
  "cells": [
    {
      "cell_type": "markdown",
      "metadata": {
        "id": "view-in-github",
        "colab_type": "text"
      },
      "source": [
        "<a href=\"https://colab.research.google.com/github/MoizAhmed2517/Deep_Learning_Projects/blob/main/Yolo_Multi_object_detection_app_and_prediction.ipynb\" target=\"_parent\"><img src=\"https://colab.research.google.com/assets/colab-badge.svg\" alt=\"Open In Colab\"/></a>"
      ]
    },
    {
      "cell_type": "markdown",
      "source": [
        "#Making an app for YOLO based Prediction"
      ],
      "metadata": {
        "id": "MY6ElXxKcmF2"
      }
    },
    {
      "cell_type": "code",
      "source": [
        "!pip install PyYAML"
      ],
      "metadata": {
        "colab": {
          "base_uri": "https://localhost:8080/"
        },
        "id": "kODfDrQ-c5Ga",
        "outputId": "25649062-4191-41f9-cedf-86ac87b3520d"
      },
      "execution_count": null,
      "outputs": [
        {
          "output_type": "stream",
          "name": "stdout",
          "text": [
            "Looking in indexes: https://pypi.org/simple, https://us-python.pkg.dev/colab-wheels/public/simple/\n",
            "Requirement already satisfied: PyYAML in /usr/local/lib/python3.8/dist-packages (6.0)\n"
          ]
        }
      ]
    },
    {
      "cell_type": "code",
      "source": [
        "import cv2\n",
        "import numpy as np\n",
        "import os"
      ],
      "metadata": {
        "id": "fvDfyICAcvtg"
      },
      "execution_count": 4,
      "outputs": []
    },
    {
      "cell_type": "code",
      "source": [
        "import yaml\n",
        "from yaml.loader import SafeLoader"
      ],
      "metadata": {
        "id": "juC8Lq1qdF16"
      },
      "execution_count": 1,
      "outputs": []
    },
    {
      "cell_type": "markdown",
      "source": [
        "Steps for making Prediction\n",
        "* Load YAML file\n",
        "* Load YOLO model\n",
        "* Load the image\n",
        "* Perform Non-maximum supression\n",
        "* Draw the bounding box"
      ],
      "metadata": {
        "id": "GVq4J6MGdNJK"
      }
    },
    {
      "cell_type": "markdown",
      "source": [
        "### Loading the YAML file"
      ],
      "metadata": {
        "id": "fdZPjpuEdk6G"
      }
    },
    {
      "cell_type": "code",
      "source": [
        "with open('data.yaml', mode='r') as f:\n",
        "  data_yaml = yaml.load(f, Loader=SafeLoader)\n",
        "\n",
        "labels = data_yaml['names']"
      ],
      "metadata": {
        "id": "9J6uZ_bjdo-D"
      },
      "execution_count": 2,
      "outputs": []
    },
    {
      "cell_type": "markdown",
      "source": [
        "###Loading the YOLO Model"
      ],
      "metadata": {
        "id": "Xj34YunefXhQ"
      }
    },
    {
      "cell_type": "code",
      "source": [
        "yolo = cv2.dnn.readNetFromONNX('yolo5l.onnx')\n",
        "yolo.setPreferableBackend(cv2.dn.DNN_BACKEND_OPENCV)\n",
        "yolo.setPreferableTarget(cv2.dn.DNN_TARGET_CPU)"
      ],
      "metadata": {
        "id": "kYq4GNpjfQ50",
        "colab": {
          "base_uri": "https://localhost:8080/",
          "height": 217
        },
        "outputId": "aa3c51e0-6b3f-4f5a-926b-0009f9cfc9b0"
      },
      "execution_count": 5,
      "outputs": [
        {
          "output_type": "error",
          "ename": "error",
          "evalue": "ignored",
          "traceback": [
            "\u001b[0;31m---------------------------------------------------------------------------\u001b[0m",
            "\u001b[0;31merror\u001b[0m                                     Traceback (most recent call last)",
            "\u001b[0;32m<ipython-input-5-373183da8ca9>\u001b[0m in \u001b[0;36m<module>\u001b[0;34m\u001b[0m\n\u001b[0;32m----> 1\u001b[0;31m \u001b[0myolo\u001b[0m \u001b[0;34m=\u001b[0m \u001b[0mcv2\u001b[0m\u001b[0;34m.\u001b[0m\u001b[0mdnn\u001b[0m\u001b[0;34m.\u001b[0m\u001b[0mreadNetFromONNX\u001b[0m\u001b[0;34m(\u001b[0m\u001b[0;34m'yolo5l.onnx'\u001b[0m\u001b[0;34m)\u001b[0m\u001b[0;34m\u001b[0m\u001b[0;34m\u001b[0m\u001b[0m\n\u001b[0m\u001b[1;32m      2\u001b[0m \u001b[0myolo\u001b[0m\u001b[0;34m.\u001b[0m\u001b[0msetPreferableBackend\u001b[0m\u001b[0;34m(\u001b[0m\u001b[0mcv2\u001b[0m\u001b[0;34m.\u001b[0m\u001b[0mdn\u001b[0m\u001b[0;34m.\u001b[0m\u001b[0mDNN_BACKEND_OPENCV\u001b[0m\u001b[0;34m)\u001b[0m\u001b[0;34m\u001b[0m\u001b[0;34m\u001b[0m\u001b[0m\n\u001b[1;32m      3\u001b[0m \u001b[0myolo\u001b[0m\u001b[0;34m.\u001b[0m\u001b[0msetPreferableTarget\u001b[0m\u001b[0;34m(\u001b[0m\u001b[0mcv2\u001b[0m\u001b[0;34m.\u001b[0m\u001b[0mdn\u001b[0m\u001b[0;34m.\u001b[0m\u001b[0mDNN_TARGET_CPU\u001b[0m\u001b[0;34m)\u001b[0m\u001b[0;34m\u001b[0m\u001b[0;34m\u001b[0m\u001b[0m\n",
            "\u001b[0;31merror\u001b[0m: OpenCV(4.6.0) /io/opencv/modules/dnn/src/onnx/onnx_importer.cpp:260: error: (-210:Unsupported format or combination of formats) Failed to parse ONNX model: yolo5l.onnx in function 'ONNXImporter'\n"
          ]
        }
      ]
    },
    {
      "cell_type": "code",
      "source": [],
      "metadata": {
        "id": "qE5CwH5apw_c"
      },
      "execution_count": null,
      "outputs": []
    }
  ]
}